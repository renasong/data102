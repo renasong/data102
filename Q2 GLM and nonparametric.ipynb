{
 "cells": [
  {
   "cell_type": "code",
   "execution_count": 1,
   "id": "1959b0fc",
   "metadata": {},
   "outputs": [],
   "source": [
    "import numpy as np\n",
    "import pandas as pd\n",
    "from sklearn.model_selection import train_test_split\n",
    "from sklearn.linear_model import LogisticRegression\n",
    "from sklearn.metrics import accuracy_score\n",
    "import statsmodels.api as sm\n",
    "from sklearn.ensemble import RandomForestClassifier"
   ]
  },
  {
   "cell_type": "code",
   "execution_count": 15,
   "id": "32d6705c",
   "metadata": {},
   "outputs": [],
   "source": [
    "#read data\n",
    "donations = pd.read_csv(\"contributions.csv\")"
   ]
  },
  {
   "cell_type": "markdown",
   "id": "17ff3b14",
   "metadata": {},
   "source": [
    "## GLM: Logistic Regression"
   ]
  },
  {
   "cell_type": "code",
   "execution_count": 30,
   "id": "99b52c6c",
   "metadata": {},
   "outputs": [],
   "source": [
    "# replace string values with binary var\n",
    "donations['Won Primary'] = donations['Won Primary'].replace(['Yes', 'No'], [1, 0])\n",
    "\n",
    "#drop na rows\n",
    "donations = donations[pd.notnull(donations['Transaction amt'])]\n",
    "donations = donations[pd.notnull(donations['Won Primary'])]"
   ]
  },
  {
   "cell_type": "code",
   "execution_count": 31,
   "id": "9febc602",
   "metadata": {},
   "outputs": [],
   "source": [
    "#split into x and y\n",
    "y = donations['Won Primary']\n",
    "x = donations['Transaction amt']"
   ]
  },
  {
   "cell_type": "code",
   "execution_count": 32,
   "id": "4a65de17",
   "metadata": {},
   "outputs": [],
   "source": [
    "#split to train and test sets\n",
    "X_train, X_test, y_train, y_test = train_test_split(x, y, test_size=0.2, random_state=42)"
   ]
  },
  {
   "cell_type": "code",
   "execution_count": 33,
   "id": "d267b166",
   "metadata": {},
   "outputs": [
    {
     "name": "stdout",
     "output_type": "stream",
     "text": [
      "Optimization terminated successfully    (Exit mode 0)\n",
      "            Current function value: 0.6931182481911223\n",
      "            Iterations: 3\n",
      "            Function evaluations: 12\n",
      "            Gradient evaluations: 3\n",
      "                           Logit Regression Results                           \n",
      "==============================================================================\n",
      "Dep. Variable:            Won Primary   No. Observations:                 5908\n",
      "Model:                          Logit   Df Residuals:                     5907\n",
      "Method:                           MLE   Df Model:                            0\n",
      "Date:                Sun, 09 May 2021   Pseudo R-squ.:                -0.08700\n",
      "Time:                        22:26:02   Log-Likelihood:                -4094.9\n",
      "converged:                       True   LL-Null:                       -3767.2\n",
      "Covariance Type:            nonrobust   LLR p-value:                       nan\n",
      "===================================================================================\n",
      "                      coef    std err          z      P>|z|      [0.025      0.975]\n",
      "-----------------------------------------------------------------------------------\n",
      "Transaction amt  3.355e-07   5.78e-07      0.580      0.562   -7.98e-07    1.47e-06\n",
      "===================================================================================\n"
     ]
    },
    {
     "name": "stderr",
     "output_type": "stream",
     "text": [
      "/usr/local/Cellar/jupyterlab/3.0.14/libexec/lib/python3.9/site-packages/statsmodels/discrete/discrete_model.py:1810: RuntimeWarning: overflow encountered in exp\n",
      "  return 1/(1+np.exp(-X))\n",
      "/usr/local/Cellar/jupyterlab/3.0.14/libexec/lib/python3.9/site-packages/statsmodels/discrete/discrete_model.py:1863: RuntimeWarning: divide by zero encountered in log\n",
      "  return np.sum(np.log(self.cdf(q*np.dot(X,params))))\n"
     ]
    }
   ],
   "source": [
    "fit_model = sm.Logit(y_train, X_train).fit_regularized()\n",
    "print(fit_model.summary())"
   ]
  },
  {
   "cell_type": "code",
   "execution_count": 34,
   "id": "cef4fd03",
   "metadata": {},
   "outputs": [
    {
     "name": "stdout",
     "output_type": "stream",
     "text": [
      "Test accuracy =  0.6587677725118484\n"
     ]
    }
   ],
   "source": [
    "predicted = fit_model.predict(X_test)\n",
    "p = list(map(round, predicted))\n",
    "print('Test accuracy = ', accuracy_score(y_test, p))"
   ]
  },
  {
   "cell_type": "code",
   "execution_count": null,
   "id": "f46d242b",
   "metadata": {},
   "outputs": [],
   "source": []
  }
 ],
 "metadata": {
  "kernelspec": {
   "display_name": "Python 3",
   "language": "python",
   "name": "python3"
  },
  "language_info": {
   "codemirror_mode": {
    "name": "ipython",
    "version": 3
   },
   "file_extension": ".py",
   "mimetype": "text/x-python",
   "name": "python",
   "nbconvert_exporter": "python",
   "pygments_lexer": "ipython3",
   "version": "3.9.5"
  }
 },
 "nbformat": 4,
 "nbformat_minor": 5
}
