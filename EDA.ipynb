{
 "cells": [
  {
   "cell_type": "code",
   "execution_count": 193,
   "id": "ddb6c5ba",
   "metadata": {},
   "outputs": [],
   "source": [
    "import numpy as np\n",
    "import pandas as pd\n",
    "import matplotlib.pyplot as plt"
   ]
  },
  {
   "cell_type": "code",
   "execution_count": 230,
   "id": "e524f1c0",
   "metadata": {},
   "outputs": [],
   "source": [
    "#read data\n",
    "contributions = pd.read_csv(\"contributions.csv\")\n",
    "dem = pd.read_csv(\"rawdata/dem_candidates.csv\")\n",
    "rep = pd.read_csv(\"rawdata/rep_candidates.csv\")"
   ]
  },
  {
   "cell_type": "code",
   "execution_count": 231,
   "id": "335e3f79",
   "metadata": {},
   "outputs": [],
   "source": [
    "#binarize\n",
    "dem['Won Primary 0_1'] = dem['Won Primary'].replace('No',0).replace('Yes',1) # outcome of election\n",
    "\n",
    "rep['Won Primary 0_1'] = rep['Won Primary'].replace('No',0).replace('Yes',1) # outcome of election\n"
   ]
  },
  {
   "cell_type": "code",
   "execution_count": 232,
   "id": "ae73db38",
   "metadata": {
    "scrolled": true
   },
   "outputs": [],
   "source": [
    "#group donations by candidate\n",
    "total_contributions = contributions.groupby([\"Candidate ID\"]).sum()\n",
    "total_contributions.reset_index(inplace=True)\n",
    "total_contributions = total_contributions.rename(columns={'Transaction amt':'Total donations'})"
   ]
  },
  {
   "cell_type": "code",
   "execution_count": 252,
   "id": "576bb3a1",
   "metadata": {},
   "outputs": [],
   "source": [
    "avg_contributions = pd.read_csv(\"average_donations.csv\")"
   ]
  },
  {
   "cell_type": "markdown",
   "id": "340f15b3",
   "metadata": {},
   "source": [
    "## 1. Partisan Lean and Election Outcome"
   ]
  },
  {
   "cell_type": "code",
   "execution_count": 233,
   "id": "6ba9f364",
   "metadata": {},
   "outputs": [],
   "source": [
    "#divide into dem/rep using partisan lean, >0 being dems, <0 being reps\n",
    "dem_totals = total_contributions[total_contributions['Partisan Lean']>0]\n",
    "rep_totals = total_contributions[total_contributions['Partisan Lean']<0]"
   ]
  },
  {
   "cell_type": "code",
   "execution_count": 234,
   "id": "b7532401",
   "metadata": {},
   "outputs": [
    {
     "data": {
      "text/plain": [
       "<matplotlib.collections.PathCollection at 0x130b20310>"
      ]
     },
     "execution_count": 234,
     "metadata": {},
     "output_type": "execute_result"
    },
    {
     "data": {
      "image/png": "[encoded data removed]",
      "text/plain": [
       "<Figure size 432x288 with 1 Axes>"
      ]
     },
     "metadata": {
      "needs_background": "light"
     },
     "output_type": "display_data"
    }
   ],
   "source": [
    "#Democrats\n",
    "fig, ax = plt.subplots()\n",
    "\n",
    "x=dem_totals['Partisan Lean']\n",
    "y=dem_totals['Primary %']\n",
    "plt.xlabel('Partisan Lean (Dem)')\n",
    "plt.ylabel('Primary %')\n",
    "plt.scatter(x, y)"
   ]
  },
  {
   "cell_type": "code",
   "execution_count": 235,
   "id": "8cbb5e17",
   "metadata": {},
   "outputs": [
    {
     "data": {
      "text/plain": [
       "<matplotlib.collections.PathCollection at 0x1304f6040>"
      ]
     },
     "execution_count": 235,
     "metadata": {},
     "output_type": "execute_result"
    },
    {
     "data": {
      "image/png": "[encoded data removed]",
      "text/plain": [
       "<Figure size 432x288 with 1 Axes>"
      ]
     },
     "metadata": {
      "needs_background": "light"
     },
     "output_type": "display_data"
    }
   ],
   "source": [
    "#Republicans\n",
    "fig, ax = plt.subplots()\n",
    "\n",
    "x=rep_totals['Partisan Lean']*-1\n",
    "y=rep_totals['Primary %']\n",
    "plt.xlabel('Partisan Lean (Rep)')\n",
    "plt.ylabel('Primary %')\n",
    "plt.scatter(x, y)\n",
    "\n"
   ]
  },
  {
   "cell_type": "markdown",
   "id": "8c194eb1",
   "metadata": {},
   "source": [
    "## 2. Endorsements and Election Outcome"
   ]
  },
  {
   "cell_type": "code",
   "execution_count": 236,
   "id": "4bc33b35",
   "metadata": {},
   "outputs": [
    {
     "data": {
      "text/plain": [
       "Index(['Candidate', 'State', 'District', 'Office Type', 'Race Type',\n",
       "       'Race Primary Election Date', 'Primary Status', 'Primary Runoff Status',\n",
       "       'General Status', 'Primary %', 'Won Primary', 'Rep Party Support?',\n",
       "       'Trump Endorsed?', 'Bannon Endorsed?', 'Great America Endorsed?',\n",
       "       'NRA Endorsed?', 'Right to Life Endorsed?',\n",
       "       'Susan B. Anthony Endorsed?', 'Club for Growth Endorsed?',\n",
       "       'Koch Support?', 'House Freedom Support?', 'Tea Party Endorsed?',\n",
       "       'Main Street Endorsed?', 'Chamber Endorsed?', 'No Labels Support?',\n",
       "       'Won Primary 0_1'],\n",
       "      dtype='object')"
      ]
     },
     "execution_count": 236,
     "metadata": {},
     "output_type": "execute_result"
    }
   ],
   "source": [
    "rep.columns"
   ]
  },
  {
   "cell_type": "code",
   "execution_count": 237,
   "id": "8f58f738",
   "metadata": {},
   "outputs": [],
   "source": [
    "#What percent of endorsed candidates for each endorsement category end up winning the election?\n",
    "dem_cats = ['Emily Endorsed?','Guns Sense Candidate?', 'Biden Endorsed?', 'Warren Endorsed? ',\n",
    "       'Sanders Endorsed?', 'Our Revolution Endorsed?','Justice Dems Endorsed?', 'PCCC Endorsed?', 'Indivisible Endorsed?',\n",
    "       'WFP Endorsed?', 'VoteVets Endorsed?']\n",
    "\n",
    "\n",
    "dem_win_percentages = []\n",
    "for cat in dem_cats:\n",
    "    wins = 0\n",
    "    losses = 0\n",
    "    total_ends = 0\n",
    "    for index, row in dem.iterrows():\n",
    "        if row[cat]=='Yes' and row['Won Primary 0_1']==1:\n",
    "            wins += 1\n",
    "            total_ends += 1\n",
    "        if row[cat]=='Yes' and row['Won Primary 0_1']==0:\n",
    "            losses += 1\n",
    "            total_ends += 1\n",
    "    dem_win_percentages.append(wins/total_ends)\n",
    "        \n",
    "#What percent of endorsed candidates for each endorsement category end up winning the election?\n",
    "rep_cats = ['Rep Party Support?',\n",
    "       'Trump Endorsed?', 'Bannon Endorsed?', 'Great America Endorsed?',\n",
    "       'NRA Endorsed?', 'Right to Life Endorsed?',\n",
    "       'Susan B. Anthony Endorsed?', 'Club for Growth Endorsed?',\n",
    "       'Koch Support?', 'House Freedom Support?', 'Tea Party Endorsed?',\n",
    "       'Main Street Endorsed?', 'Chamber Endorsed?']\n",
    "\n",
    "\n",
    "rep_win_percentages = []\n",
    "for cat in rep_cats:\n",
    "    wins = 0\n",
    "    losses = 0\n",
    "    total_ends = 0\n",
    "    for index, row in rep.iterrows():\n",
    "        if row[cat]=='Yes' and row['Won Primary 0_1']==1:\n",
    "            wins += 1\n",
    "            total_ends += 1\n",
    "        if row[cat]=='Yes' and row['Won Primary 0_1']==0:\n",
    "            losses += 1\n",
    "            total_ends += 1\n",
    "    rep_win_percentages.append(wins/total_ends)\n",
    "        \n",
    "endorsement = ['Emily Endorsed','Guns Sense Candidate', 'Biden Endorsed', 'Warren Endorsed',\n",
    "       'Sanders Endorsed', 'Our Revolution Endorsed','Justice Dems Endorsed', 'PCCC Endorsed', 'Indivisible Endorsed',\n",
    "       'WFP Endorsed', 'VoteVets Endorsed']\n",
    "d_df = pd.DataFrame({\"Endorsement\":endorsement,\"Win Proportion\":dem_win_percentages})\n",
    "\n",
    "\n",
    "r_endorsement = ['Rep Party Support',\n",
    "       'Trump Endorsed', 'Bannon Endorsed', 'Great America Endorsed',\n",
    "       'NRA Endorsed', 'Right to Life Endorsed',\n",
    "       'Susan B. Anthony Endorsed', 'Club for Growth Endorsed',\n",
    "       'Koch Support', 'House Freedom Support', 'Tea Party Endorsed',\n",
    "       'Main Street Endorsed', 'Chamber Endorsed']\n",
    "r_df = pd.DataFrame({\"Endorsement\":r_endorsement,\"Win Proportion\":rep_win_percentages})"
   ]
  },
  {
   "cell_type": "code",
   "execution_count": 238,
   "id": "6d81339a",
   "metadata": {},
   "outputs": [],
   "source": [
    "d_df = d_df.sort_values(by=\"Win Proportion\", ascending = False)"
   ]
  },
  {
   "cell_type": "code",
   "execution_count": 239,
   "id": "4ab64b91",
   "metadata": {},
   "outputs": [
    {
     "data": {
      "text/html": [
       "<div>\n",
       "<style scoped>\n",
       "    .dataframe tbody tr th:only-of-type {\n",
       "        vertical-align: middle;\n",
       "    }\n",
       "\n",
       "    .dataframe tbody tr th {\n",
       "        vertical-align: top;\n",
       "    }\n",
       "\n",
       "    .dataframe thead th {\n",
       "        text-align: right;\n",
       "    }\n",
       "</style>\n",
       "<table border=\"1\" class=\"dataframe\">\n",
       "  <thead>\n",
       "    <tr style=\"text-align: right;\">\n",
       "      <th></th>\n",
       "      <th>Endorsement</th>\n",
       "      <th>Win Proportion</th>\n",
       "    </tr>\n",
       "  </thead>\n",
       "  <tbody>\n",
       "    <tr>\n",
       "      <th>2</th>\n",
       "      <td>Biden Endorsed</td>\n",
       "      <td>1.000000</td>\n",
       "    </tr>\n",
       "    <tr>\n",
       "      <th>3</th>\n",
       "      <td>Warren Endorsed</td>\n",
       "      <td>1.000000</td>\n",
       "    </tr>\n",
       "    <tr>\n",
       "      <th>0</th>\n",
       "      <td>Emily Endorsed</td>\n",
       "      <td>0.722222</td>\n",
       "    </tr>\n",
       "    <tr>\n",
       "      <th>7</th>\n",
       "      <td>PCCC Endorsed</td>\n",
       "      <td>0.666667</td>\n",
       "    </tr>\n",
       "    <tr>\n",
       "      <th>8</th>\n",
       "      <td>Indivisible Endorsed</td>\n",
       "      <td>0.652174</td>\n",
       "    </tr>\n",
       "    <tr>\n",
       "      <th>10</th>\n",
       "      <td>VoteVets Endorsed</td>\n",
       "      <td>0.571429</td>\n",
       "    </tr>\n",
       "    <tr>\n",
       "      <th>4</th>\n",
       "      <td>Sanders Endorsed</td>\n",
       "      <td>0.555556</td>\n",
       "    </tr>\n",
       "    <tr>\n",
       "      <th>9</th>\n",
       "      <td>WFP Endorsed</td>\n",
       "      <td>0.500000</td>\n",
       "    </tr>\n",
       "    <tr>\n",
       "      <th>1</th>\n",
       "      <td>Guns Sense Candidate</td>\n",
       "      <td>0.411458</td>\n",
       "    </tr>\n",
       "    <tr>\n",
       "      <th>6</th>\n",
       "      <td>Justice Dems Endorsed</td>\n",
       "      <td>0.320000</td>\n",
       "    </tr>\n",
       "    <tr>\n",
       "      <th>5</th>\n",
       "      <td>Our Revolution Endorsed</td>\n",
       "      <td>0.317647</td>\n",
       "    </tr>\n",
       "  </tbody>\n",
       "</table>\n",
       "</div>"
      ],
      "text/plain": [
       "                Endorsement  Win Proportion\n",
       "2            Biden Endorsed        1.000000\n",
       "3           Warren Endorsed        1.000000\n",
       "0            Emily Endorsed        0.722222\n",
       "7             PCCC Endorsed        0.666667\n",
       "8      Indivisible Endorsed        0.652174\n",
       "10        VoteVets Endorsed        0.571429\n",
       "4          Sanders Endorsed        0.555556\n",
       "9              WFP Endorsed        0.500000\n",
       "1      Guns Sense Candidate        0.411458\n",
       "6     Justice Dems Endorsed        0.320000\n",
       "5   Our Revolution Endorsed        0.317647"
      ]
     },
     "execution_count": 239,
     "metadata": {},
     "output_type": "execute_result"
    }
   ],
   "source": [
    "d_df"
   ]
  },
  {
   "cell_type": "code",
   "execution_count": 240,
   "id": "d91ed42c",
   "metadata": {},
   "outputs": [
    {
     "data": {
      "text/html": [
       "<div>\n",
       "<style scoped>\n",
       "    .dataframe tbody tr th:only-of-type {\n",
       "        vertical-align: middle;\n",
       "    }\n",
       "\n",
       "    .dataframe tbody tr th {\n",
       "        vertical-align: top;\n",
       "    }\n",
       "\n",
       "    .dataframe thead th {\n",
       "        text-align: right;\n",
       "    }\n",
       "</style>\n",
       "<table border=\"1\" class=\"dataframe\">\n",
       "  <thead>\n",
       "    <tr style=\"text-align: right;\">\n",
       "      <th></th>\n",
       "      <th>Endorsement</th>\n",
       "      <th>Win Proportion</th>\n",
       "    </tr>\n",
       "  </thead>\n",
       "  <tbody>\n",
       "    <tr>\n",
       "      <th>1</th>\n",
       "      <td>Trump Endorsed</td>\n",
       "      <td>0.882353</td>\n",
       "    </tr>\n",
       "    <tr>\n",
       "      <th>8</th>\n",
       "      <td>Koch Support</td>\n",
       "      <td>0.857143</td>\n",
       "    </tr>\n",
       "    <tr>\n",
       "      <th>2</th>\n",
       "      <td>Bannon Endorsed</td>\n",
       "      <td>0.750000</td>\n",
       "    </tr>\n",
       "    <tr>\n",
       "      <th>3</th>\n",
       "      <td>Great America Endorsed</td>\n",
       "      <td>0.714286</td>\n",
       "    </tr>\n",
       "    <tr>\n",
       "      <th>11</th>\n",
       "      <td>Main Street Endorsed</td>\n",
       "      <td>0.647059</td>\n",
       "    </tr>\n",
       "    <tr>\n",
       "      <th>10</th>\n",
       "      <td>Tea Party Endorsed</td>\n",
       "      <td>0.625000</td>\n",
       "    </tr>\n",
       "    <tr>\n",
       "      <th>12</th>\n",
       "      <td>Chamber Endorsed</td>\n",
       "      <td>0.625000</td>\n",
       "    </tr>\n",
       "    <tr>\n",
       "      <th>0</th>\n",
       "      <td>Rep Party Support</td>\n",
       "      <td>0.619048</td>\n",
       "    </tr>\n",
       "    <tr>\n",
       "      <th>7</th>\n",
       "      <td>Club for Growth Endorsed</td>\n",
       "      <td>0.619048</td>\n",
       "    </tr>\n",
       "    <tr>\n",
       "      <th>4</th>\n",
       "      <td>NRA Endorsed</td>\n",
       "      <td>0.571429</td>\n",
       "    </tr>\n",
       "    <tr>\n",
       "      <th>6</th>\n",
       "      <td>Susan B. Anthony Endorsed</td>\n",
       "      <td>0.521739</td>\n",
       "    </tr>\n",
       "    <tr>\n",
       "      <th>9</th>\n",
       "      <td>House Freedom Support</td>\n",
       "      <td>0.500000</td>\n",
       "    </tr>\n",
       "    <tr>\n",
       "      <th>5</th>\n",
       "      <td>Right to Life Endorsed</td>\n",
       "      <td>0.445946</td>\n",
       "    </tr>\n",
       "  </tbody>\n",
       "</table>\n",
       "</div>"
      ],
      "text/plain": [
       "                  Endorsement  Win Proportion\n",
       "1              Trump Endorsed        0.882353\n",
       "8                Koch Support        0.857143\n",
       "2             Bannon Endorsed        0.750000\n",
       "3      Great America Endorsed        0.714286\n",
       "11       Main Street Endorsed        0.647059\n",
       "10         Tea Party Endorsed        0.625000\n",
       "12           Chamber Endorsed        0.625000\n",
       "0           Rep Party Support        0.619048\n",
       "7    Club for Growth Endorsed        0.619048\n",
       "4                NRA Endorsed        0.571429\n",
       "6   Susan B. Anthony Endorsed        0.521739\n",
       "9       House Freedom Support        0.500000\n",
       "5      Right to Life Endorsed        0.445946"
      ]
     },
     "execution_count": 240,
     "metadata": {},
     "output_type": "execute_result"
    }
   ],
   "source": [
    "r_df = r_df.sort_values(by=\"Win Proportion\", ascending = False)\n",
    "r_df"
   ]
  },
  {
   "cell_type": "markdown",
   "id": "9fe2db6e",
   "metadata": {},
   "source": [
    "## Average Contribution Size and Election Outcome"
   ]
  },
  {
   "cell_type": "code",
   "execution_count": 255,
   "id": "2e013d46",
   "metadata": {},
   "outputs": [
    {
     "data": {
      "text/plain": [
       "Text(0, 0.5, 'Primary %')"
      ]
     },
     "execution_count": 255,
     "metadata": {},
     "output_type": "execute_result"
    },
    {
     "data": {
      "image/png": "[encoded data removed]",
      "text/plain": [
       "<Figure size 432x288 with 1 Axes>"
      ]
     },
     "metadata": {
      "needs_background": "light"
     },
     "output_type": "display_data"
    }
   ],
   "source": [
    "plt.scatter(x=avg_contributions['Avg Donation Size'],y=avg_contributions['Primary %'])\n",
    "plt.xlabel('Avg donation size')\n",
    "plt.ylabel('Primary %')"
   ]
  },
  {
   "cell_type": "code",
   "execution_count": null,
   "id": "a2bf0d3c",
   "metadata": {},
   "outputs": [],
   "source": []
  }
 ],
 "metadata": {
  "kernelspec": {
   "display_name": "Python 3",
   "language": "python",
   "name": "python3"
  },
  "language_info": {
   "codemirror_mode": {
    "name": "ipython",
    "version": 3
   },
   "file_extension": ".py",
   "mimetype": "text/x-python",
   "name": "python",
   "nbconvert_exporter": "python",
   "pygments_lexer": "ipython3",
   "version": "3.9.5"
  }
 },
 "nbformat": 4,
 "nbformat_minor": 5
}
