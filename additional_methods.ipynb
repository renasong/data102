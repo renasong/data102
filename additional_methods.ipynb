{
 "cells": [
  {
   "cell_type": "code",
   "execution_count": 119,
   "metadata": {},
   "outputs": [],
   "source": [
    "from pgmpy.models import BayesianModel\n",
    "from pgmpy.estimators import MaximumLikelihoodEstimator\n",
    "from pgmpy.inference import VariableElimination\n",
    "from pgmpy.factors.discrete import TabularCPD\n",
    "\n",
    "from scipy import stats\n",
    "\n",
    "import pandas as pd\n",
    "import numpy as np\n",
    "import bnlearn as bn\n",
    "\n",
    "import matplotlib.pyplot as plt"
   ]
  },
  {
   "cell_type": "markdown",
   "metadata": {},
   "source": [
    "#### Reading Data"
   ]
  },
  {
   "cell_type": "code",
   "execution_count": 70,
   "metadata": {},
   "outputs": [],
   "source": [
    "# Endorsements are binarized. \n",
    "df = pd.read_csv('average_donations.csv')"
   ]
  },
  {
   "cell_type": "code",
   "execution_count": 71,
   "metadata": {},
   "outputs": [
    {
     "data": {
      "text/plain": [
       "Primary-general indicator                             P2018\n",
       "Candidate ID                                      H8GA07144\n",
       "Chamber Endorsed?                                         0\n",
       "Main Street Endorsed?                                     0\n",
       "Tea Party Endorsed?                                       0\n",
       "House Freedom Support?                                    0\n",
       "Koch Support?                                             0\n",
       "Club for Growth Endorsed?                                 0\n",
       "Susan B. Anthony Endorsed?                                0\n",
       "Right to Life Endorsed?                                   0\n",
       "NRA Endorsed?                                             0\n",
       "Great America Endorsed?                                   0\n",
       "Bannon Endorsed?                                          0\n",
       "Trump Endorsed?                                           0\n",
       "Rep Party Support?                                        0\n",
       "No Labels Support?                                        0\n",
       "VoteVets Endorsed?                                        0\n",
       "WFP Endorsed?                                             0\n",
       "Indivisible Endorsed?                                     0\n",
       "PCCC Endorsed?                                            0\n",
       "Justice Dems Endorsed?                                    0\n",
       "Our Revolution Endorsed?                                  1\n",
       "Sanders Endorsed?                                         0\n",
       "Warren Endorsed?                                          0\n",
       "Biden Endorsed?                                           0\n",
       "Guns Sense Candidate?                                     0\n",
       "Emily Endorsed?                                           0\n",
       "Party Support?                                            0\n",
       "Obama Alum?                                               0\n",
       "STEM?                                                     0\n",
       "Self-Funder?                                              0\n",
       "Elected Official?                                         0\n",
       "LGBTQ?                                                    0\n",
       "Veteran?                                                  0\n",
       "Race                                                  White\n",
       "Won Primary                                               0\n",
       "Primary %                                             11.02\n",
       "Partisan Lean                                        -12.73\n",
       "General Status                                            0\n",
       "Primary Runoff Status                                     0\n",
       "Primary Status                                            0\n",
       "Race Primary Election Date                          5/22/18\n",
       "Race Type                                           Regular\n",
       "Office Type                                  Representative\n",
       "District                      U.S. House Georgia District 7\n",
       "State                                                    GA\n",
       "Avg Donation Size                                      1000\n",
       "Name: 0, dtype: object"
      ]
     },
     "execution_count": 71,
     "metadata": {},
     "output_type": "execute_result"
    }
   ],
   "source": [
    "df.loc[0]"
   ]
  },
  {
   "cell_type": "code",
   "execution_count": 72,
   "metadata": {},
   "outputs": [],
   "source": [
    "prop_vote = df['Primary %']"
   ]
  },
  {
   "cell_type": "markdown",
   "metadata": {},
   "source": [
    "#### Choosing strong priors based on distribution"
   ]
  },
  {
   "cell_type": "code",
   "execution_count": 73,
   "metadata": {},
   "outputs": [],
   "source": [
    "# source: https://github.com/stan-dev/stan/wiki/Prior-Choice-Recommendations"
   ]
  },
  {
   "cell_type": "code",
   "execution_count": 74,
   "metadata": {},
   "outputs": [],
   "source": [
    "def plot_prior(heading):\n",
    "  \"\"\"\n",
    "  Args:\n",
    "    heading: heading of a column in average_donations.csv. String.\n",
    "  Returns:\n",
    "    mean: mean of prior\n",
    "    var: variance of prior\n",
    "  \"\"\"\n",
    "  col = df[heading]\n",
    "  mean = np.mean(col)\n",
    "  var = np.var(col)\n",
    "  ax = col.plot.kde()\n",
    "  print(\"***Prior***:\", heading)\n",
    "  print(\"Mean:\", mean, \"\\nVariance:\", var)\n",
    "  plt.xlabel(heading)\n",
    "  plt.show()\n",
    "  return mean, var"
   ]
  },
  {
   "cell_type": "code",
   "execution_count": 75,
   "metadata": {},
   "outputs": [
    {
     "data": {
      "text/plain": [
       "array(['Avg Donation Size', 'Partisan Lean', 'Guns Sense Candidate?',\n",
       "       'STEM?', 'Elected Official?', 'Rep Party Support?',\n",
       "       'Emily Endorsed?', 'Our Revolution Endorsed?', 'Veteran?',\n",
       "       'Party Support?'], dtype=object)"
      ]
     },
     "execution_count": 75,
     "metadata": {},
     "output_type": "execute_result"
    }
   ],
   "source": [
    "# choose top ten priors sorted by how uncentered from 0 the mean of the prior is\n",
    "frames = [df.iloc[:, 2:34], df.iloc[:, 37], df.iloc[:, 46]]\n",
    "priors = pd.concat(frames, axis = 1)\n",
    "priors = abs(priors.mean()).sort_values(ascending = False)[0:10]\n",
    "priors = np.array(priors.index)\n",
    "priors"
   ]
  },
  {
   "cell_type": "code",
   "execution_count": 76,
   "metadata": {},
   "outputs": [],
   "source": [
    "priors_df = df.filter(items = priors)"
   ]
  },
  {
   "cell_type": "code",
   "execution_count": 77,
   "metadata": {},
   "outputs": [
    {
     "name": "stdout",
     "output_type": "stream",
     "text": [
      "***Prior***: Avg Donation Size\n",
      "Mean: 6090.644308060757 \n",
      "Variance: 204284421.0913531\n"
     ]
    },
    {
     "data": {
      "image/png": "[encoded data removed]",
      "text/plain": [
       "<Figure size 432x288 with 1 Axes>"
      ]
     },
     "metadata": {
      "needs_background": "light"
     },
     "output_type": "display_data"
    },
    {
     "name": "stdout",
     "output_type": "stream",
     "text": [
      "***Prior***: Partisan Lean\n",
      "Mean: -5.414247475418059 \n",
      "Variance: 258.019779240901\n"
     ]
    },
    {
     "data": {
      "image/png": "[encoded data removed]",
      "text/plain": [
       "<Figure size 432x288 with 1 Axes>"
      ]
     },
     "metadata": {
      "needs_background": "light"
     },
     "output_type": "display_data"
    },
    {
     "name": "stdout",
     "output_type": "stream",
     "text": [
      "***Prior***: Guns Sense Candidate?\n",
      "Mean: 0.20735785953177258 \n",
      "Variance: 0.16436057762217482\n"
     ]
    },
    {
     "data": {
      "image/png": "[encoded data removed]",
      "text/plain": [
       "<Figure size 432x288 with 1 Axes>"
      ]
     },
     "metadata": {
      "needs_background": "light"
     },
     "output_type": "display_data"
    },
    {
     "name": "stdout",
     "output_type": "stream",
     "text": [
      "***Prior***: STEM?\n",
      "Mean: 0.12374581939799331 \n",
      "Variance: 0.10843279157951319\n"
     ]
    },
    {
     "data": {
      "image/png": "[encoded data removed]",
      "text/plain": [
       "<Figure size 432x288 with 1 Axes>"
      ]
     },
     "metadata": {
      "needs_background": "light"
     },
     "output_type": "display_data"
    },
    {
     "name": "stdout",
     "output_type": "stream",
     "text": [
      "***Prior***: Elected Official?\n",
      "Mean: 0.11371237458193979 \n",
      "Variance: 0.10078187044887617\n"
     ]
    },
    {
     "data": {
      "image/png": "[encoded data removed]",
      "text/plain": [
       "<Figure size 432x288 with 1 Axes>"
      ]
     },
     "metadata": {
      "needs_background": "light"
     },
     "output_type": "display_data"
    },
    {
     "name": "stdout",
     "output_type": "stream",
     "text": [
      "***Prior***: Rep Party Support?\n",
      "Mean: 0.11036789297658862 \n",
      "Variance: 0.09818682117649742\n"
     ]
    },
    {
     "data": {
      "image/png": "[encoded data removed]",
      "text/plain": [
       "<Figure size 432x288 with 1 Axes>"
      ]
     },
     "metadata": {
      "needs_background": "light"
     },
     "output_type": "display_data"
    },
    {
     "name": "stdout",
     "output_type": "stream",
     "text": [
      "***Prior***: Emily Endorsed?\n",
      "Mean: 0.09698996655518395 \n",
      "Variance: 0.0875829129428079\n"
     ]
    },
    {
     "data": {
      "image/png": "[encoded data removed]",
      "text/plain": [
       "<Figure size 432x288 with 1 Axes>"
      ]
     },
     "metadata": {
      "needs_background": "light"
     },
     "output_type": "display_data"
    },
    {
     "name": "stdout",
     "output_type": "stream",
     "text": [
      "***Prior***: Our Revolution Endorsed?\n",
      "Mean: 0.0903010033444816 \n",
      "Variance: 0.08214673213946118\n"
     ]
    },
    {
     "data": {
      "image/png": "[encoded data removed]",
      "text/plain": [
       "<Figure size 432x288 with 1 Axes>"
      ]
     },
     "metadata": {
      "needs_background": "light"
     },
     "output_type": "display_data"
    },
    {
     "name": "stdout",
     "output_type": "stream",
     "text": [
      "***Prior***: Veteran?\n",
      "Mean: 0.07357859531772576 \n",
      "Variance: 0.06816478562879602\n"
     ]
    },
    {
     "data": {
      "image/png": "[encoded data removed]",
      "text/plain": [
       "<Figure size 432x288 with 1 Axes>"
      ]
     },
     "metadata": {
      "needs_background": "light"
     },
     "output_type": "display_data"
    },
    {
     "name": "stdout",
     "output_type": "stream",
     "text": [
      "***Prior***: Party Support?\n",
      "Mean: 0.07357859531772576 \n",
      "Variance: 0.06816478562879566\n"
     ]
    },
    {
     "data": {
      "image/png": "[encoded data removed]",
      "text/plain": [
       "<Figure size 432x288 with 1 Axes>"
      ]
     },
     "metadata": {
      "needs_background": "light"
     },
     "output_type": "display_data"
    }
   ],
   "source": [
    "# distributions of the ten priors\n",
    "for prior in priors_df:\n",
    "  plot_prior(prior)"
   ]
  },
  {
   "cell_type": "markdown",
   "metadata": {},
   "source": [
    "#### Modeling"
   ]
  },
  {
   "cell_type": "code",
   "execution_count": 81,
   "metadata": {},
   "outputs": [],
   "source": [
    "# A: a candidate’s average donation size, 'Avg Donation Size'\n",
    "# B: the proportion of the vote received, 'Primary %'"
   ]
  },
  {
   "cell_type": "code",
   "execution_count": 130,
   "metadata": {},
   "outputs": [],
   "source": [
    "# in what structure?\n",
    "model = BayesianModel([(priors[0], priors[1]), (priors[1], priors[2]), (priors[2], priors[3]), (priors[3], 'Primary %')])"
   ]
  },
  {
   "cell_type": "code",
   "execution_count": 84,
   "metadata": {},
   "outputs": [],
   "source": [
    "model.fit(df)"
   ]
  },
  {
   "cell_type": "code",
   "execution_count": 85,
   "metadata": {},
   "outputs": [],
   "source": [
    "inference = VariableElimination(model)"
   ]
  },
  {
   "cell_type": "code",
   "execution_count": 126,
   "metadata": {},
   "outputs": [
    {
     "name": "stderr",
     "output_type": "stream",
     "text": [
      "Finding Elimination Order: : 100%|█████████████████████████████████████████████████████| 3/3 [00:00<00:00, 2998.07it/s]\n",
      "Eliminating: STEM?: 100%|███████████████████████████████████████████████████████████████| 3/3 [00:00<00:00, 187.59it/s]\n"
     ]
    }
   ],
   "source": [
    "# int(np.mean(df[priors[0]])) errors out\n",
    "q = inference.query(variables = ['Primary %'], evidence = {'Avg Donation Size': int(np.mean(df[priors[0]]) / 100)})"
   ]
  },
  {
   "cell_type": "code",
   "execution_count": 132,
   "metadata": {},
   "outputs": [
    {
     "name": "stdout",
     "output_type": "stream",
     "text": [
      "+-------------------------------+------------------+\n",
      "| Primary %                     |   phi(Primary %) |\n",
      "+===============================+==================+\n",
      "| Primary %(0.0)                |           0.0123 |\n",
      "+-------------------------------+------------------+\n",
      "| Primary %(1.6)                |           0.0027 |\n",
      "+-------------------------------+------------------+\n",
      "| Primary %(2.3)                |           0.0034 |\n",
      "+-------------------------------+------------------+\n",
      "| Primary %(2.48)               |           0.0034 |\n",
      "+-------------------------------+------------------+\n",
      "| Primary %(3.01)               |           0.0027 |\n",
      "+-------------------------------+------------------+\n",
      "| Primary %(3.76)               |           0.0034 |\n",
      "+-------------------------------+------------------+\n",
      "| Primary %(3.78)               |           0.0027 |\n",
      "+-------------------------------+------------------+\n",
      "| Primary %(3.8)                |           0.0034 |\n",
      "+-------------------------------+------------------+\n",
      "| Primary %(3.98)               |           0.0034 |\n",
      "+-------------------------------+------------------+\n",
      "| Primary %(3.99)               |           0.0034 |\n",
      "+-------------------------------+------------------+\n",
      "| Primary %(4.1500001000000015) |           0.0034 |\n",
      "+-------------------------------+------------------+\n",
      "| Primary %(4.4899998)          |           0.0027 |\n",
      "+-------------------------------+------------------+\n",
      "| Primary %(4.619999900000002)  |           0.0034 |\n",
      "+-------------------------------+------------------+\n",
      "| Primary %(4.76)               |           0.0034 |\n",
      "+-------------------------------+------------------+\n",
      "| Primary %(4.8600001)          |           0.0034 |\n",
      "+-------------------------------+------------------+\n",
      "| Primary %(5.25)               |           0.0034 |\n",
      "+-------------------------------+------------------+\n",
      "| Primary %(5.37)               |           0.0034 |\n",
      "+-------------------------------+------------------+\n",
      "| Primary %(5.54)               |           0.0034 |\n",
      "+-------------------------------+------------------+\n",
      "| Primary %(5.61)               |           0.0034 |\n",
      "+-------------------------------+------------------+\n",
      "| Primary %(6.3000002)          |           0.0034 |\n",
      "+-------------------------------+------------------+\n",
      "| Primary %(6.98)               |           0.0034 |\n",
      "+-------------------------------+------------------+\n",
      "| Primary %(8.3)                |           0.0034 |\n",
      "+-------------------------------+------------------+\n",
      "| Primary %(8.75)               |           0.0034 |\n",
      "+-------------------------------+------------------+\n",
      "| Primary %(9.1999998)          |           0.0034 |\n",
      "+-------------------------------+------------------+\n",
      "| Primary %(9.57)               |           0.0034 |\n",
      "+-------------------------------+------------------+\n",
      "| Primary %(10.04)              |           0.0034 |\n",
      "+-------------------------------+------------------+\n",
      "| Primary %(10.16)              |           0.0034 |\n",
      "+-------------------------------+------------------+\n",
      "| Primary %(10.24)              |           0.0027 |\n",
      "+-------------------------------+------------------+\n",
      "| Primary %(10.3)               |           0.0034 |\n",
      "+-------------------------------+------------------+\n",
      "| Primary %(10.37)              |           0.0034 |\n",
      "+-------------------------------+------------------+\n",
      "| Primary %(11.02)              |           0.0034 |\n",
      "+-------------------------------+------------------+\n",
      "| Primary %(11.19)              |           0.0034 |\n",
      "+-------------------------------+------------------+\n",
      "| Primary %(11.3)               |           0.0034 |\n",
      "+-------------------------------+------------------+\n",
      "| Primary %(11.42)              |           0.0034 |\n",
      "+-------------------------------+------------------+\n",
      "| Primary %(11.53)              |           0.0034 |\n",
      "+-------------------------------+------------------+\n",
      "| Primary %(11.9)               |           0.0034 |\n",
      "+-------------------------------+------------------+\n",
      "| Primary %(11.91)              |           0.0034 |\n",
      "+-------------------------------+------------------+\n",
      "| Primary %(11.99)              |           0.0034 |\n",
      "+-------------------------------+------------------+\n",
      "| Primary %(12.42)              |           0.0034 |\n",
      "+-------------------------------+------------------+\n",
      "| Primary %(12.45)              |           0.0034 |\n",
      "+-------------------------------+------------------+\n",
      "| Primary %(13.06)              |           0.0027 |\n",
      "+-------------------------------+------------------+\n",
      "| Primary %(13.18)              |           0.0034 |\n",
      "+-------------------------------+------------------+\n",
      "| Primary %(13.24)              |           0.0027 |\n",
      "+-------------------------------+------------------+\n",
      "| Primary %(13.4)               |           0.0027 |\n",
      "+-------------------------------+------------------+\n",
      "| Primary %(13.44)              |           0.0034 |\n",
      "+-------------------------------+------------------+\n",
      "| Primary %(14.0)               |           0.0034 |\n",
      "+-------------------------------+------------------+\n",
      "| Primary %(14.26)              |           0.0034 |\n",
      "+-------------------------------+------------------+\n",
      "| Primary %(14.3)               |           0.0034 |\n",
      "+-------------------------------+------------------+\n",
      "| Primary %(14.5)               |           0.0034 |\n",
      "+-------------------------------+------------------+\n",
      "| Primary %(14.98)              |           0.0034 |\n",
      "+-------------------------------+------------------+\n",
      "| Primary %(15.24)              |           0.0034 |\n",
      "+-------------------------------+------------------+\n",
      "| Primary %(15.31)              |           0.0034 |\n",
      "+-------------------------------+------------------+\n",
      "| Primary %(15.33)              |           0.0027 |\n",
      "+-------------------------------+------------------+\n",
      "| Primary %(15.54)              |           0.0034 |\n",
      "+-------------------------------+------------------+\n",
      "| Primary %(15.9)               |           0.0069 |\n",
      "+-------------------------------+------------------+\n",
      "| Primary %(16.700001)          |           0.0034 |\n",
      "+-------------------------------+------------------+\n",
      "| Primary %(16.79)              |           0.0034 |\n",
      "+-------------------------------+------------------+\n",
      "| Primary %(16.88)              |           0.0034 |\n",
      "+-------------------------------+------------------+\n",
      "| Primary %(17.4)               |           0.0034 |\n",
      "+-------------------------------+------------------+\n",
      "| Primary %(17.9)               |           0.0034 |\n",
      "+-------------------------------+------------------+\n",
      "| Primary %(18.16)              |           0.0034 |\n",
      "+-------------------------------+------------------+\n",
      "| Primary %(18.19)              |           0.0034 |\n",
      "+-------------------------------+------------------+\n",
      "| Primary %(18.3)               |           0.0034 |\n",
      "+-------------------------------+------------------+\n",
      "| Primary %(18.34)              |           0.0034 |\n",
      "+-------------------------------+------------------+\n",
      "| Primary %(18.35)              |           0.0034 |\n",
      "+-------------------------------+------------------+\n",
      "| Primary %(18.8)               |           0.0034 |\n",
      "+-------------------------------+------------------+\n",
      "| Primary %(18.9)               |           0.0034 |\n",
      "+-------------------------------+------------------+\n",
      "| Primary %(19.040001)          |           0.0027 |\n",
      "+-------------------------------+------------------+\n",
      "| Primary %(19.1)               |           0.0034 |\n",
      "+-------------------------------+------------------+\n",
      "| Primary %(19.12)              |           0.0034 |\n",
      "+-------------------------------+------------------+\n",
      "| Primary %(19.120001000000002) |           0.0034 |\n",
      "+-------------------------------+------------------+\n",
      "| Primary %(19.16)              |           0.0027 |\n",
      "+-------------------------------+------------------+\n",
      "| Primary %(19.17)              |           0.0034 |\n",
      "+-------------------------------+------------------+\n",
      "| Primary %(19.200001)          |           0.0034 |\n",
      "+-------------------------------+------------------+\n",
      "| Primary %(19.5)               |           0.0034 |\n",
      "+-------------------------------+------------------+\n",
      "| Primary %(19.77)              |           0.0034 |\n",
      "+-------------------------------+------------------+\n",
      "| Primary %(19.799999)          |           0.0034 |\n",
      "+-------------------------------+------------------+\n",
      "| Primary %(19.97)              |           0.0034 |\n",
      "+-------------------------------+------------------+\n",
      "| Primary %(20.17)              |           0.0034 |\n",
      "+-------------------------------+------------------+\n",
      "| Primary %(20.440001000000002) |           0.0034 |\n",
      "+-------------------------------+------------------+\n",
      "| Primary %(21.22)              |           0.0034 |\n",
      "+-------------------------------+------------------+\n",
      "| Primary %(21.299999)          |           0.0027 |\n",
      "+-------------------------------+------------------+\n",
      "| Primary %(21.360001)          |           0.0034 |\n",
      "+-------------------------------+------------------+\n",
      "| Primary %(21.63)              |           0.0034 |\n",
      "+-------------------------------+------------------+\n",
      "| Primary %(21.799999)          |           0.0034 |\n",
      "+-------------------------------+------------------+\n",
      "| Primary %(21.85)              |           0.0034 |\n",
      "+-------------------------------+------------------+\n",
      "| Primary %(21.9)               |           0.0034 |\n",
      "+-------------------------------+------------------+\n",
      "| Primary %(21.93)              |           0.0034 |\n",
      "+-------------------------------+------------------+\n",
      "| Primary %(21.95)              |           0.0034 |\n",
      "+-------------------------------+------------------+\n",
      "| Primary %(21.969998999999998) |           0.0034 |\n",
      "+-------------------------------+------------------+\n",
      "| Primary %(21.99)              |           0.0034 |\n",
      "+-------------------------------+------------------+\n",
      "| Primary %(22.02)              |           0.0034 |\n",
      "+-------------------------------+------------------+\n",
      "| Primary %(22.059998999999998) |           0.0034 |\n",
      "+-------------------------------+------------------+\n",
      "| Primary %(22.9)               |           0.0034 |\n",
      "+-------------------------------+------------------+\n",
      "| Primary %(22.959999)          |           0.0034 |\n",
      "+-------------------------------+------------------+\n",
      "| Primary %(23.1)               |           0.0034 |\n",
      "+-------------------------------+------------------+\n",
      "| Primary %(23.2)               |           0.0034 |\n",
      "+-------------------------------+------------------+\n",
      "| Primary %(23.299999)          |           0.0034 |\n",
      "+-------------------------------+------------------+\n",
      "| Primary %(23.62)              |           0.0034 |\n",
      "+-------------------------------+------------------+\n",
      "| Primary %(23.68)              |           0.0034 |\n",
      "+-------------------------------+------------------+\n",
      "| Primary %(23.82)              |           0.0034 |\n",
      "+-------------------------------+------------------+\n",
      "| Primary %(23.88)              |           0.0034 |\n",
      "+-------------------------------+------------------+\n",
      "| Primary %(23.98)              |           0.0034 |\n",
      "+-------------------------------+------------------+\n",
      "| Primary %(24.15)              |           0.0027 |\n",
      "+-------------------------------+------------------+\n",
      "| Primary %(24.34)              |           0.0034 |\n",
      "+-------------------------------+------------------+\n",
      "| Primary %(24.56)              |           0.0034 |\n",
      "+-------------------------------+------------------+\n",
      "| Primary %(24.92)              |           0.0034 |\n",
      "+-------------------------------+------------------+\n",
      "| Primary %(24.95)              |           0.0034 |\n",
      "+-------------------------------+------------------+\n",
      "| Primary %(25.200001)          |           0.0034 |\n",
      "+-------------------------------+------------------+\n",
      "| Primary %(25.4)               |           0.0034 |\n",
      "+-------------------------------+------------------+\n",
      "| Primary %(25.43)              |           0.0034 |\n",
      "+-------------------------------+------------------+\n",
      "| Primary %(25.7)               |           0.0034 |\n",
      "+-------------------------------+------------------+\n",
      "| Primary %(26.2)               |           0.0034 |\n",
      "+-------------------------------+------------------+\n",
      "| Primary %(26.25)              |           0.0034 |\n",
      "+-------------------------------+------------------+\n",
      "| Primary %(26.799999)          |           0.0027 |\n",
      "+-------------------------------+------------------+\n",
      "| Primary %(26.87)              |           0.0034 |\n",
      "+-------------------------------+------------------+\n",
      "| Primary %(27.0)               |           0.0034 |\n",
      "+-------------------------------+------------------+\n",
      "| Primary %(27.06)              |           0.0034 |\n",
      "+-------------------------------+------------------+\n",
      "| Primary %(27.190001000000002) |           0.0027 |\n",
      "+-------------------------------+------------------+\n",
      "| Primary %(27.280001000000002) |           0.0034 |\n",
      "+-------------------------------+------------------+\n",
      "| Primary %(27.42)              |           0.0034 |\n",
      "+-------------------------------+------------------+\n",
      "| Primary %(27.54)              |           0.0034 |\n",
      "+-------------------------------+------------------+\n",
      "| Primary %(28.1)               |           0.0069 |\n",
      "+-------------------------------+------------------+\n",
      "| Primary %(28.16)              |           0.0034 |\n",
      "+-------------------------------+------------------+\n",
      "| Primary %(28.72)              |           0.0034 |\n",
      "+-------------------------------+------------------+\n",
      "| Primary %(28.73)              |           0.0034 |\n",
      "+-------------------------------+------------------+\n",
      "| Primary %(29.030001000000002) |           0.0027 |\n",
      "+-------------------------------+------------------+\n",
      "| Primary %(29.34)              |           0.0034 |\n",
      "+-------------------------------+------------------+\n",
      "| Primary %(29.5)               |           0.0027 |\n",
      "+-------------------------------+------------------+\n",
      "| Primary %(29.97)              |           0.0034 |\n",
      "+-------------------------------+------------------+\n",
      "| Primary %(30.15)              |           0.0034 |\n",
      "+-------------------------------+------------------+\n",
      "| Primary %(30.4)               |           0.0034 |\n",
      "+-------------------------------+------------------+\n",
      "| Primary %(30.52)              |           0.0034 |\n",
      "+-------------------------------+------------------+\n",
      "| Primary %(30.700001)          |           0.0027 |\n",
      "+-------------------------------+------------------+\n",
      "| Primary %(30.85)              |           0.0034 |\n",
      "+-------------------------------+------------------+\n",
      "| Primary %(31.09)              |           0.0034 |\n",
      "+-------------------------------+------------------+\n",
      "| Primary %(31.290001)          |           0.0027 |\n",
      "+-------------------------------+------------------+\n",
      "| Primary %(31.709999)          |           0.0034 |\n",
      "+-------------------------------+------------------+\n",
      "| Primary %(31.92)              |           0.0034 |\n",
      "+-------------------------------+------------------+\n",
      "| Primary %(32.03)              |           0.0034 |\n",
      "+-------------------------------+------------------+\n",
      "| Primary %(33.03)              |           0.0034 |\n",
      "+-------------------------------+------------------+\n",
      "| Primary %(33.200001)          |           0.0034 |\n",
      "+-------------------------------+------------------+\n",
      "| Primary %(33.450001)          |           0.0034 |\n",
      "+-------------------------------+------------------+\n",
      "| Primary %(33.52)              |           0.0034 |\n",
      "+-------------------------------+------------------+\n",
      "| Primary %(33.82)              |           0.0034 |\n",
      "+-------------------------------+------------------+\n",
      "| Primary %(33.83)              |           0.0034 |\n",
      "+-------------------------------+------------------+\n",
      "| Primary %(33.900002)          |           0.0034 |\n",
      "+-------------------------------+------------------+\n",
      "| Primary %(34.1)               |           0.0034 |\n",
      "+-------------------------------+------------------+\n",
      "| Primary %(34.25)              |           0.0034 |\n",
      "+-------------------------------+------------------+\n",
      "| Primary %(34.400002)          |           0.0069 |\n",
      "+-------------------------------+------------------+\n",
      "| Primary %(34.7)               |           0.0034 |\n",
      "+-------------------------------+------------------+\n",
      "| Primary %(34.700001)          |           0.0034 |\n",
      "+-------------------------------+------------------+\n",
      "| Primary %(35.330002)          |           0.0034 |\n",
      "+-------------------------------+------------------+\n",
      "| Primary %(35.450001)          |           0.0027 |\n",
      "+-------------------------------+------------------+\n",
      "| Primary %(35.509997999999996) |           0.0034 |\n",
      "+-------------------------------+------------------+\n",
      "| Primary %(35.57)              |           0.0027 |\n",
      "+-------------------------------+------------------+\n",
      "| Primary %(35.77)              |           0.0034 |\n",
      "+-------------------------------+------------------+\n",
      "| Primary %(36.09)              |           0.0034 |\n",
      "+-------------------------------+------------------+\n",
      "| Primary %(36.330002)          |           0.0034 |\n",
      "+-------------------------------+------------------+\n",
      "| Primary %(37.28)              |           0.0034 |\n",
      "+-------------------------------+------------------+\n",
      "| Primary %(37.299999)          |           0.0062 |\n",
      "+-------------------------------+------------------+\n",
      "| Primary %(37.43)              |           0.0034 |\n",
      "+-------------------------------+------------------+\n",
      "| Primary %(37.439999)          |           0.0027 |\n",
      "+-------------------------------+------------------+\n",
      "| Primary %(37.529999)          |           0.0034 |\n",
      "+-------------------------------+------------------+\n",
      "| Primary %(37.700001)          |           0.0034 |\n",
      "+-------------------------------+------------------+\n",
      "| Primary %(37.8)               |           0.0034 |\n",
      "+-------------------------------+------------------+\n",
      "| Primary %(37.889998999999996) |           0.0034 |\n",
      "+-------------------------------+------------------+\n",
      "| Primary %(37.900002)          |           0.0027 |\n",
      "+-------------------------------+------------------+\n",
      "| Primary %(38.0)               |           0.0034 |\n",
      "+-------------------------------+------------------+\n",
      "| Primary %(38.119999)          |           0.0034 |\n",
      "+-------------------------------+------------------+\n",
      "| Primary %(38.259997999999996) |           0.0034 |\n",
      "+-------------------------------+------------------+\n",
      "| Primary %(38.43)              |           0.0034 |\n",
      "+-------------------------------+------------------+\n",
      "| Primary %(38.959998999999996) |           0.0034 |\n",
      "+-------------------------------+------------------+\n",
      "| Primary %(39.720001)          |           0.0034 |\n",
      "+-------------------------------+------------------+\n",
      "| Primary %(39.79)              |           0.0034 |\n",
      "+-------------------------------+------------------+\n",
      "| Primary %(40.04)              |           0.0034 |\n",
      "+-------------------------------+------------------+\n",
      "| Primary %(40.549999)          |           0.0034 |\n",
      "+-------------------------------+------------------+\n",
      "| Primary %(40.59)              |           0.0034 |\n",
      "+-------------------------------+------------------+\n",
      "| Primary %(40.78)              |           0.0034 |\n",
      "+-------------------------------+------------------+\n",
      "| Primary %(41.17)              |           0.0034 |\n",
      "+-------------------------------+------------------+\n",
      "| Primary %(41.299999)          |           0.0034 |\n",
      "+-------------------------------+------------------+\n",
      "| Primary %(41.47)              |           0.0034 |\n",
      "+-------------------------------+------------------+\n",
      "| Primary %(41.6)               |           0.0034 |\n",
      "+-------------------------------+------------------+\n",
      "| Primary %(41.639998999999996) |           0.0034 |\n",
      "+-------------------------------+------------------+\n",
      "| Primary %(41.700001)          |           0.0062 |\n",
      "+-------------------------------+------------------+\n",
      "| Primary %(41.889998999999996) |           0.0034 |\n",
      "+-------------------------------+------------------+\n",
      "| Primary %(42.4)               |           0.0034 |\n",
      "+-------------------------------+------------------+\n",
      "| Primary %(42.400002)          |           0.0027 |\n",
      "+-------------------------------+------------------+\n",
      "| Primary %(42.73)              |           0.0034 |\n",
      "+-------------------------------+------------------+\n",
      "| Primary %(42.9)               |           0.0034 |\n",
      "+-------------------------------+------------------+\n",
      "| Primary %(43.12)              |           0.0034 |\n",
      "+-------------------------------+------------------+\n",
      "| Primary %(43.4)               |           0.0034 |\n",
      "+-------------------------------+------------------+\n",
      "| Primary %(43.650002)          |           0.0034 |\n",
      "+-------------------------------+------------------+\n",
      "| Primary %(43.84)              |           0.0034 |\n",
      "+-------------------------------+------------------+\n",
      "| Primary %(44.81)              |           0.0034 |\n",
      "+-------------------------------+------------------+\n",
      "| Primary %(45.22)              |           0.0034 |\n",
      "+-------------------------------+------------------+\n",
      "| Primary %(45.3)               |           0.0034 |\n",
      "+-------------------------------+------------------+\n",
      "| Primary %(46.419998)          |           0.0034 |\n",
      "+-------------------------------+------------------+\n",
      "| Primary %(46.81)              |           0.0034 |\n",
      "+-------------------------------+------------------+\n",
      "| Primary %(47.41)              |           0.0034 |\n",
      "+-------------------------------+------------------+\n",
      "| Primary %(48.0)               |           0.0034 |\n",
      "+-------------------------------+------------------+\n",
      "| Primary %(48.2)               |           0.0034 |\n",
      "+-------------------------------+------------------+\n",
      "| Primary %(48.360001000000004) |           0.0034 |\n",
      "+-------------------------------+------------------+\n",
      "| Primary %(48.66)              |           0.0034 |\n",
      "+-------------------------------+------------------+\n",
      "| Primary %(49.0)               |           0.0034 |\n",
      "+-------------------------------+------------------+\n",
      "| Primary %(49.099998)          |           0.0034 |\n",
      "+-------------------------------+------------------+\n",
      "| Primary %(49.39)              |           0.0034 |\n",
      "+-------------------------------+------------------+\n",
      "| Primary %(49.51)              |           0.0034 |\n",
      "+-------------------------------+------------------+\n",
      "| Primary %(51.639998999999996) |           0.0034 |\n",
      "+-------------------------------+------------------+\n",
      "| Primary %(52.5)               |           0.0034 |\n",
      "+-------------------------------+------------------+\n",
      "| Primary %(52.66)              |           0.0034 |\n",
      "+-------------------------------+------------------+\n",
      "| Primary %(52.860001000000004) |           0.0034 |\n",
      "+-------------------------------+------------------+\n",
      "| Primary %(52.93)              |           0.0034 |\n",
      "+-------------------------------+------------------+\n",
      "| Primary %(53.0)               |           0.0034 |\n",
      "+-------------------------------+------------------+\n",
      "| Primary %(53.04)              |           0.0034 |\n",
      "+-------------------------------+------------------+\n",
      "| Primary %(53.9)               |           0.0034 |\n",
      "+-------------------------------+------------------+\n",
      "| Primary %(54.200001)          |           0.0034 |\n",
      "+-------------------------------+------------------+\n",
      "| Primary %(54.7)               |           0.0034 |\n",
      "+-------------------------------+------------------+\n",
      "| Primary %(55.3)               |           0.0034 |\n",
      "+-------------------------------+------------------+\n",
      "| Primary %(56.0)               |           0.0034 |\n",
      "+-------------------------------+------------------+\n",
      "| Primary %(56.099998)          |           0.0034 |\n",
      "+-------------------------------+------------------+\n",
      "| Primary %(56.22)              |           0.0034 |\n",
      "+-------------------------------+------------------+\n",
      "| Primary %(57.200001)          |           0.0034 |\n",
      "+-------------------------------+------------------+\n",
      "| Primary %(57.799999)          |           0.0034 |\n",
      "+-------------------------------+------------------+\n",
      "| Primary %(59.610001000000004) |           0.0027 |\n",
      "+-------------------------------+------------------+\n",
      "| Primary %(59.959998999999996) |           0.0034 |\n",
      "+-------------------------------+------------------+\n",
      "| Primary %(60.220001)          |           0.0027 |\n",
      "+-------------------------------+------------------+\n",
      "| Primary %(61.529999)          |           0.0034 |\n",
      "+-------------------------------+------------------+\n",
      "| Primary %(62.0)               |           0.0034 |\n",
      "+-------------------------------+------------------+\n",
      "| Primary %(62.110001000000004) |           0.0034 |\n",
      "+-------------------------------+------------------+\n",
      "| Primary %(62.330002)          |           0.0027 |\n",
      "+-------------------------------+------------------+\n",
      "| Primary %(62.380001)          |           0.0034 |\n",
      "+-------------------------------+------------------+\n",
      "| Primary %(62.57)              |           0.0034 |\n",
      "+-------------------------------+------------------+\n",
      "| Primary %(62.650002)          |           0.0034 |\n",
      "+-------------------------------+------------------+\n",
      "| Primary %(63.03)              |           0.0034 |\n",
      "+-------------------------------+------------------+\n",
      "| Primary %(63.540001000000004) |           0.0034 |\n",
      "+-------------------------------+------------------+\n",
      "| Primary %(63.68)              |           0.0034 |\n",
      "+-------------------------------+------------------+\n",
      "| Primary %(65.739998)          |           0.0034 |\n",
      "+-------------------------------+------------------+\n",
      "| Primary %(65.940002)          |           0.0034 |\n",
      "+-------------------------------+------------------+\n",
      "| Primary %(66.099998)          |           0.0027 |\n",
      "+-------------------------------+------------------+\n",
      "| Primary %(66.199997)          |           0.0034 |\n",
      "+-------------------------------+------------------+\n",
      "| Primary %(66.400002)          |           0.0034 |\n",
      "+-------------------------------+------------------+\n",
      "| Primary %(66.800003)          |           0.0069 |\n",
      "+-------------------------------+------------------+\n",
      "| Primary %(66.910004)          |           0.0034 |\n",
      "+-------------------------------+------------------+\n",
      "| Primary %(67.019997)          |           0.0034 |\n",
      "+-------------------------------+------------------+\n",
      "| Primary %(67.31)              |           0.0034 |\n",
      "+-------------------------------+------------------+\n",
      "| Primary %(67.76)              |           0.0034 |\n",
      "+-------------------------------+------------------+\n",
      "| Primary %(69.15)              |           0.0034 |\n",
      "+-------------------------------+------------------+\n",
      "| Primary %(70.139999)          |           0.0034 |\n",
      "+-------------------------------+------------------+\n",
      "| Primary %(70.900002)          |           0.0034 |\n",
      "+-------------------------------+------------------+\n",
      "| Primary %(71.5)               |           0.0027 |\n",
      "+-------------------------------+------------------+\n",
      "| Primary %(72.410004)          |           0.0034 |\n",
      "+-------------------------------+------------------+\n",
      "| Primary %(72.559998)          |           0.0034 |\n",
      "+-------------------------------+------------------+\n",
      "| Primary %(72.68)              |           0.0034 |\n",
      "+-------------------------------+------------------+\n",
      "| Primary %(76.019997)          |           0.0034 |\n",
      "+-------------------------------+------------------+\n",
      "| Primary %(77.110001)          |           0.0027 |\n",
      "+-------------------------------+------------------+\n",
      "| Primary %(77.199997)          |           0.0034 |\n",
      "+-------------------------------+------------------+\n",
      "| Primary %(78.37)              |           0.0034 |\n",
      "+-------------------------------+------------------+\n",
      "| Primary %(78.83000200000002)  |           0.0034 |\n",
      "+-------------------------------+------------------+\n",
      "| Primary %(79.099998)          |           0.0034 |\n",
      "+-------------------------------+------------------+\n",
      "| Primary %(79.83000200000002)  |           0.0034 |\n",
      "+-------------------------------+------------------+\n",
      "| Primary %(81.0)               |           0.0034 |\n",
      "+-------------------------------+------------------+\n",
      "| Primary %(85.199997)          |           0.0034 |\n",
      "+-------------------------------+------------------+\n",
      "| Primary %(89.7)               |           0.0034 |\n",
      "+-------------------------------+------------------+\n",
      "| Primary %(92.09)              |           0.0034 |\n",
      "+-------------------------------+------------------+\n",
      "| Primary %(100.0)              |           0.0837 |\n",
      "+-------------------------------+------------------+\n"
     ]
    }
   ],
   "source": [
    "print(q)"
   ]
  },
  {
   "cell_type": "code",
   "execution_count": null,
   "metadata": {},
   "outputs": [],
   "source": []
  }
 ],
 "metadata": {
  "kernelspec": {
   "display_name": "Python 3",
   "language": "python",
   "name": "python3"
  },
  "language_info": {
   "codemirror_mode": {
    "name": "ipython",
    "version": 3
   },
   "file_extension": ".py",
   "mimetype": "text/x-python",
   "name": "python",
   "nbconvert_exporter": "python",
   "pygments_lexer": "ipython3",
   "version": "3.8.3"
  }
 },
 "nbformat": 4,
 "nbformat_minor": 4
}
