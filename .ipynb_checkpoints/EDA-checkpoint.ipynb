{
 "cells": [
  {
   "cell_type": "code",
   "execution_count": 3,
   "id": "f5b53249",
   "metadata": {},
   "outputs": [],
   "source": [
    "import numpy as np\n",
    "import pandas as pd\n",
    "import matplotlib.pyplot as plt"
   ]
  },
  {
   "cell_type": "code",
   "execution_count": 16,
   "id": "71c5f478",
   "metadata": {},
   "outputs": [],
   "source": [
    "#read data\n",
    "contributions = pd.read_csv(\"contributions.csv\")"
   ]
  },
  {
   "cell_type": "code",
   "execution_count": 41,
   "id": "744f158c",
   "metadata": {},
   "outputs": [
    {
     "data": {
      "text/html": [
       "<div>\n",
       "<style scoped>\n",
       "    .dataframe tbody tr th:only-of-type {\n",
       "        vertical-align: middle;\n",
       "    }\n",
       "\n",
       "    .dataframe tbody tr th {\n",
       "        vertical-align: top;\n",
       "    }\n",
       "\n",
       "    .dataframe thead th {\n",
       "        text-align: right;\n",
       "    }\n",
       "</style>\n",
       "<table border=\"1\" class=\"dataframe\">\n",
       "  <thead>\n",
       "    <tr style=\"text-align: right;\">\n",
       "      <th></th>\n",
       "      <th>Candidate</th>\n",
       "      <th>Partisan Lean</th>\n",
       "      <th>Primary %</th>\n",
       "      <th>Transaction date (MMDDYYYY)</th>\n",
       "      <th>Average donation</th>\n",
       "    </tr>\n",
       "  </thead>\n",
       "  <tbody>\n",
       "    <tr>\n",
       "      <th>0</th>\n",
       "      <td>ALLEN, KATHLEEN</td>\n",
       "      <td>-12.73</td>\n",
       "      <td>11.02</td>\n",
       "      <td>9132017.0</td>\n",
       "      <td>1000.000000</td>\n",
       "    </tr>\n",
       "    <tr>\n",
       "      <th>1</th>\n",
       "      <td>ALLMAN, MICHAEL</td>\n",
       "      <td>NaN</td>\n",
       "      <td>9.57</td>\n",
       "      <td>3092018.0</td>\n",
       "      <td>2000.000000</td>\n",
       "    </tr>\n",
       "    <tr>\n",
       "      <th>2</th>\n",
       "      <td>ALLRED, COLIN</td>\n",
       "      <td>-4.98</td>\n",
       "      <td>38.43</td>\n",
       "      <td>6127351.2</td>\n",
       "      <td>1657.333333</td>\n",
       "    </tr>\n",
       "    <tr>\n",
       "      <th>3</th>\n",
       "      <td>ANDREI, LINDA</td>\n",
       "      <td>-13.93</td>\n",
       "      <td>15.33</td>\n",
       "      <td>3202018.0</td>\n",
       "      <td>1000.000000</td>\n",
       "    </tr>\n",
       "    <tr>\n",
       "      <th>4</th>\n",
       "      <td>ARMSTRONG, KELLY</td>\n",
       "      <td>NaN</td>\n",
       "      <td>56.22</td>\n",
       "      <td>6460455.5</td>\n",
       "      <td>2920.312500</td>\n",
       "    </tr>\n",
       "  </tbody>\n",
       "</table>\n",
       "</div>"
      ],
      "text/plain": [
       "          Candidate  Partisan Lean  Primary %  Transaction date (MMDDYYYY)  \\\n",
       "0   ALLEN, KATHLEEN         -12.73      11.02                    9132017.0   \n",
       "1   ALLMAN, MICHAEL            NaN       9.57                    3092018.0   \n",
       "2     ALLRED, COLIN          -4.98      38.43                    6127351.2   \n",
       "3     ANDREI, LINDA         -13.93      15.33                    3202018.0   \n",
       "4  ARMSTRONG, KELLY            NaN      56.22                    6460455.5   \n",
       "\n",
       "   Average donation  \n",
       "0       1000.000000  \n",
       "1       2000.000000  \n",
       "2       1657.333333  \n",
       "3       1000.000000  \n",
       "4       2920.312500  "
      ]
     },
     "execution_count": 41,
     "metadata": {},
     "output_type": "execute_result"
    }
   ],
   "source": [
    "#get average donation size via groupby\n",
    "avg_contributions = contributions.groupby([\"Candidate\"]).mean()\n",
    "avg_contributions.reset_index(inplace=True)\n",
    "avg_contributions=avg_contributions.rename(columns={'Transaction amt':'Average donation'})\n",
    "avg_contributions.head()"
   ]
  },
  {
   "cell_type": "code",
   "execution_count": 45,
   "id": "b97d840c",
   "metadata": {},
   "outputs": [],
   "source": [
    "#divide into dem/rep using partisan lean, >0 being dems, <0 being reps\n",
    "dem_averages = avg_contributions[avg_contributions['Partisan Lean']>0]\n",
    "rep_averages = avg_contributions[avg_contributions['Partisan Lean']<0]"
   ]
  },
  {
   "cell_type": "code",
   "execution_count": 56,
   "id": "0d5fd19f",
   "metadata": {},
   "outputs": [
    {
     "data": {
      "image/png": "[encoded data removed]",
      "text/plain": [
       "<Figure size 432x288 with 1 Axes>"
      ]
     },
     "metadata": {
      "needs_background": "light"
     },
     "output_type": "display_data"
    }
   ],
   "source": [
    "#Democrats\n",
    "fig, ax = plt.subplots()\n",
    "\n",
    "x=dem_averages['Partisan Lean']\n",
    "y=dem_averages['Average donation']\n",
    "plt.scatter(x, y)\n",
    "\n",
    "#EDA label points for top raising candidates\n",
    "top_dems = ['ALLEN, KATHLEEN', 'SCHUMER, CHARLES', 'HASSAN, MARGARET WOOD']\n",
    "\n",
    "n = dem_averages['Candidate']\n",
    "for i, txt in enumerate(n):\n",
    "    if txt in top_dems:\n",
    "        ax.annotate(txt, (x[i], y[i]))"
   ]
  },
  {
   "cell_type": "code",
   "execution_count": null,
   "id": "a912c562",
   "metadata": {},
   "outputs": [],
   "source": []
  }
 ],
 "metadata": {
  "kernelspec": {
   "display_name": "Python 3",
   "language": "python",
   "name": "python3"
  },
  "language_info": {
   "codemirror_mode": {
    "name": "ipython",
    "version": 3
   },
   "file_extension": ".py",
   "mimetype": "text/x-python",
   "name": "python",
   "nbconvert_exporter": "python",
   "pygments_lexer": "ipython3",
   "version": "3.9.5"
  }
 },
 "nbformat": 4,
 "nbformat_minor": 5
}
