{
 "cells": [
  {
   "cell_type": "code",
   "execution_count": 496,
   "metadata": {},
   "outputs": [],
   "source": [
    "import numpy as np\n",
    "import pandas as pd\n",
    "import seaborn as sns\n",
    "from matplotlib import pyplot as plt\n",
    "\n",
    "from sklearn.model_selection import train_test_split\n",
    "from sklearn.linear_model import LogisticRegression\n",
    "from sklearn.metrics import accuracy_score\n",
    "import statsmodels.api as sm\n",
    "from sklearn.tree import DecisionTreeRegressor\n",
    "from sklearn.tree import plot_tree\n",
    "from sklearn.metrics import accuracy_score, confusion_matrix, classification_report"
   ]
  },
  {
   "cell_type": "markdown",
   "metadata": {},
   "source": [
    "## Question Framing\n",
    "In terms of predicting primary results (advanced or lost; binary) using multiple features, how do Logistic Regression and Random Forest compare?"
   ]
  },
  {
   "cell_type": "markdown",
   "metadata": {},
   "source": [
    "## EDA: Why party support status?\n",
    "Discover effective features based on correlation between variables. We did data cleaning for donation sizes of each candidate, in hopes it serves as a good feature for predicing primary results."
   ]
  },
  {
   "cell_type": "code",
   "execution_count": 362,
   "metadata": {},
   "outputs": [
    {
     "data": {
      "text/plain": [
       "'Tot Donation Size'"
      ]
     },
     "execution_count": 362,
     "metadata": {},
     "output_type": "execute_result"
    }
   ],
   "source": [
    "df = pd.read_csv(\"total_donations.csv\")\n",
    "df.columns[-1]"
   ]
  },
  {
   "cell_type": "code",
   "execution_count": 363,
   "metadata": {},
   "outputs": [
    {
     "data": {
      "text/plain": [
       "array([[1.        , 0.03578053],\n",
       "       [0.03578053, 1.        ]])"
      ]
     },
     "execution_count": 363,
     "metadata": {},
     "output_type": "execute_result"
    }
   ],
   "source": [
    "# correlation matrix\n",
    "r = np.corrcoef(df['Tot Donation Size'], df['Won Primary'])\n",
    "r"
   ]
  },
  {
   "cell_type": "code",
   "execution_count": 364,
   "metadata": {},
   "outputs": [
    {
     "data": {
      "text/plain": [
       "'Avg Donation Size'"
      ]
     },
     "execution_count": 364,
     "metadata": {},
     "output_type": "execute_result"
    }
   ],
   "source": [
    "df = pd.read_csv(\"average_donations.csv\")\n",
    "df.columns[-1]"
   ]
  },
  {
   "cell_type": "code",
   "execution_count": 365,
   "metadata": {},
   "outputs": [
    {
     "data": {
      "text/plain": [
       "array([[ 1.        , -0.11363915],\n",
       "       [-0.11363915,  1.        ]])"
      ]
     },
     "execution_count": 365,
     "metadata": {},
     "output_type": "execute_result"
    }
   ],
   "source": [
    "r = np.corrcoef(df['Avg Donation Size'], df['Won Primary'])\n",
    "r"
   ]
  },
  {
   "cell_type": "code",
   "execution_count": 366,
   "metadata": {},
   "outputs": [
    {
     "data": {
      "text/plain": [
       "'Largest Donation Size'"
      ]
     },
     "execution_count": 366,
     "metadata": {},
     "output_type": "execute_result"
    }
   ],
   "source": [
    "df = pd.read_csv(\"largest_donations.csv\")\n",
    "df.columns[-1]"
   ]
  },
  {
   "cell_type": "code",
   "execution_count": 367,
   "metadata": {},
   "outputs": [
    {
     "data": {
      "text/plain": [
       "array([[1.        , 0.03589082],\n",
       "       [0.03589082, 1.        ]])"
      ]
     },
     "execution_count": 367,
     "metadata": {},
     "output_type": "execute_result"
    }
   ],
   "source": [
    "r = np.corrcoef(df['Largest Donation Size'], df['Won Primary'])\n",
    "r"
   ]
  },
  {
   "cell_type": "markdown",
   "metadata": {},
   "source": [
    "#### ^The correlation between a candidate's primary results and total donation size, average donation size, largest donation size are very low. Therefore donation sizes are not desirable features."
   ]
  },
  {
   "cell_type": "markdown",
   "metadata": {},
   "source": [
    "#### Find the 5 most desirable feaures, which has the 5 largest absolute correlation values with Won Primary:"
   ]
  },
  {
   "cell_type": "code",
   "execution_count": 609,
   "metadata": {},
   "outputs": [
    {
     "data": {
      "text/plain": [
       "Index(['Primary-general indicator', 'Candidate ID', 'Chamber Endorsed?',\n",
       "       'Main Street Endorsed?', 'Tea Party Endorsed?',\n",
       "       'House Freedom Support?', 'Koch Support?', 'Club for Growth Endorsed?',\n",
       "       'Susan B. Anthony Endorsed?', 'Right to Life Endorsed?',\n",
       "       'NRA Endorsed?', 'Great America Endorsed?', 'Bannon Endorsed?',\n",
       "       'Trump Endorsed?', 'Rep Party Support?', 'No Labels Support?',\n",
       "       'VoteVets Endorsed?', 'WFP Endorsed?', 'Indivisible Endorsed?',\n",
       "       'PCCC Endorsed?', 'Justice Dems Endorsed?', 'Our Revolution Endorsed?',\n",
       "       'Sanders Endorsed?', 'Warren Endorsed? ', 'Biden Endorsed?',\n",
       "       'Guns Sense Candidate?', 'Emily Endorsed?', 'Party Support?',\n",
       "       'Obama Alum?', 'STEM?', 'Self-Funder?', 'Elected Official?', 'LGBTQ?',\n",
       "       'Veteran?', 'Race', 'Won Primary', 'Primary %', 'Partisan Lean',\n",
       "       'General Status', 'Primary Runoff Status', 'Primary Status',\n",
       "       'Race Primary Election Date', 'Race Type', 'Office Type', 'District',\n",
       "       'State', 'Largest Donation Size'],\n",
       "      dtype='object')"
      ]
     },
     "execution_count": 609,
     "metadata": {},
     "output_type": "execute_result"
    }
   ],
   "source": [
    "df = pd.read_csv(\"largest_donations.csv\")\n",
    "df.columns"
   ]
  },
  {
   "cell_type": "code",
   "execution_count": 610,
   "metadata": {},
   "outputs": [],
   "source": [
    "# drop trivial columns\n",
    "df = df.drop(columns = ['Primary Status', 'Primary %'])"
   ]
  },
  {
   "cell_type": "code",
   "execution_count": 626,
   "metadata": {},
   "outputs": [],
   "source": [
    "def find_features(df):\n",
    "    # returns 5 best features\n",
    "    corrs = []\n",
    "    headings = []\n",
    "\n",
    "    for heading in df.columns:\n",
    "        if heading != 'Won Primary' and type(df[heading][0]) != str:\n",
    "            corrs.append(np.corrcoef(df[heading], df['Won Primary'])[0][1])\n",
    "            headings.append(heading)\n",
    "    \n",
    "    temp_df = pd.DataFrame(corrs, headings)\n",
    "    temp_df = abs(temp_df).sort_values(0, ascending = False)\n",
    "    features = temp_df.iloc[0:5][0][0:6]\n",
    "    return features"
   ]
  },
  {
   "cell_type": "code",
   "execution_count": 627,
   "metadata": {},
   "outputs": [
    {
     "data": {
      "text/plain": [
       "Party Support?         0.286965\n",
       "Biden Endorsed?        0.158793\n",
       "Emily Endorsed?        0.136424\n",
       "Koch Support?          0.131605\n",
       "Tea Party Endorsed?    0.116764\n",
       "Name: 0, dtype: float64"
      ]
     },
     "execution_count": 627,
     "metadata": {},
     "output_type": "execute_result"
    }
   ],
   "source": [
    "# Features and their correlation with primary results\n",
    "features = find_features(df)\n",
    "features"
   ]
  },
  {
   "cell_type": "code",
   "execution_count": 628,
   "metadata": {},
   "outputs": [],
   "source": [
    "features = features.index"
   ]
  },
  {
   "cell_type": "markdown",
   "metadata": {},
   "source": [
    "#### We will choose  the above five as our features to predict primary results since it has the largest correlation with primary results amongst all numerizable features. "
   ]
  },
  {
   "cell_type": "markdown",
   "metadata": {},
   "source": [
    "## Prediction with GLM: Logistic Regression\n",
    "Chose Logistic Regression because of dependent variable is binary."
   ]
  },
  {
   "cell_type": "code",
   "execution_count": 629,
   "metadata": {},
   "outputs": [],
   "source": [
    "y = df.loc[:, 'Won Primary']\n",
    "x = df.loc[:, features]"
   ]
  },
  {
   "cell_type": "code",
   "execution_count": 630,
   "metadata": {},
   "outputs": [
    {
     "data": {
      "text/html": [
       "<div>\n",
       "<style scoped>\n",
       "    .dataframe tbody tr th:only-of-type {\n",
       "        vertical-align: middle;\n",
       "    }\n",
       "\n",
       "    .dataframe tbody tr th {\n",
       "        vertical-align: top;\n",
       "    }\n",
       "\n",
       "    .dataframe thead th {\n",
       "        text-align: right;\n",
       "    }\n",
       "</style>\n",
       "<table border=\"1\" class=\"dataframe\">\n",
       "  <thead>\n",
       "    <tr style=\"text-align: right;\">\n",
       "      <th></th>\n",
       "      <th>Party Support?</th>\n",
       "      <th>Biden Endorsed?</th>\n",
       "      <th>Emily Endorsed?</th>\n",
       "      <th>Koch Support?</th>\n",
       "      <th>Tea Party Endorsed?</th>\n",
       "      <th>Won Primary</th>\n",
       "    </tr>\n",
       "  </thead>\n",
       "  <tbody>\n",
       "    <tr>\n",
       "      <th>0</th>\n",
       "      <td>0</td>\n",
       "      <td>0</td>\n",
       "      <td>0</td>\n",
       "      <td>0</td>\n",
       "      <td>0</td>\n",
       "      <td>0</td>\n",
       "    </tr>\n",
       "    <tr>\n",
       "      <th>1</th>\n",
       "      <td>0</td>\n",
       "      <td>0</td>\n",
       "      <td>0</td>\n",
       "      <td>0</td>\n",
       "      <td>0</td>\n",
       "      <td>0</td>\n",
       "    </tr>\n",
       "    <tr>\n",
       "      <th>2</th>\n",
       "      <td>1</td>\n",
       "      <td>0</td>\n",
       "      <td>0</td>\n",
       "      <td>0</td>\n",
       "      <td>0</td>\n",
       "      <td>1</td>\n",
       "    </tr>\n",
       "    <tr>\n",
       "      <th>3</th>\n",
       "      <td>0</td>\n",
       "      <td>0</td>\n",
       "      <td>0</td>\n",
       "      <td>0</td>\n",
       "      <td>0</td>\n",
       "      <td>0</td>\n",
       "    </tr>\n",
       "    <tr>\n",
       "      <th>4</th>\n",
       "      <td>0</td>\n",
       "      <td>0</td>\n",
       "      <td>0</td>\n",
       "      <td>0</td>\n",
       "      <td>0</td>\n",
       "      <td>1</td>\n",
       "    </tr>\n",
       "  </tbody>\n",
       "</table>\n",
       "</div>"
      ],
      "text/plain": [
       "   Party Support?  Biden Endorsed?  Emily Endorsed?  Koch Support?  \\\n",
       "0               0                0                0              0   \n",
       "1               0                0                0              0   \n",
       "2               1                0                0              0   \n",
       "3               0                0                0              0   \n",
       "4               0                0                0              0   \n",
       "\n",
       "   Tea Party Endorsed?  Won Primary  \n",
       "0                    0            0  \n",
       "1                    0            0  \n",
       "2                    0            1  \n",
       "3                    0            0  \n",
       "4                    0            1  "
      ]
     },
     "execution_count": 630,
     "metadata": {},
     "output_type": "execute_result"
    }
   ],
   "source": [
    "df = pd.concat([x, y], axis=1)\n",
    "df.head()"
   ]
  },
  {
   "cell_type": "code",
   "execution_count": 631,
   "metadata": {},
   "outputs": [
    {
     "data": {
      "text/plain": [
       "<seaborn.axisgrid.PairGrid at 0x20ee9cb29a0>"
      ]
     },
     "execution_count": 631,
     "metadata": {},
     "output_type": "execute_result"
    },
    {
     "data": {
      "image/png": "[encoded data removed]",
      "text/plain": [
       "<Figure size 1080x1080 with 42 Axes>"
      ]
     },
     "metadata": {
      "needs_background": "light"
     },
     "output_type": "display_data"
    }
   ],
   "source": [
    "sns.pairplot(df)"
   ]
  },
  {
   "cell_type": "code",
   "execution_count": 697,
   "metadata": {},
   "outputs": [],
   "source": [
    "x_train, x_test, y_train, y_test = train_test_split(x, y, test_size=0.2, random_state=42)"
   ]
  },
  {
   "cell_type": "code",
   "execution_count": 698,
   "metadata": {},
   "outputs": [
    {
     "name": "stdout",
     "output_type": "stream",
     "text": [
      "Optimization terminated successfully    (Exit mode 0)\n",
      "            Current function value: 0.6379162446486701\n",
      "            Iterations: 50\n",
      "            Function evaluations: 50\n",
      "            Gradient evaluations: 50\n",
      "                           Logit Regression Results                           \n",
      "==============================================================================\n",
      "Dep. Variable:            Won Primary   No. Observations:                  239\n",
      "Model:                          Logit   Df Residuals:                      234\n",
      "Method:                           MLE   Df Model:                            4\n",
      "Date:                Mon, 10 May 2021   Pseudo R-squ.:                 0.06978\n",
      "Time:                        06:09:03   Log-Likelihood:                -152.46\n",
      "converged:                       True   LL-Null:                       -163.90\n",
      "Covariance Type:            nonrobust   LLR p-value:                 0.0001343\n",
      "=======================================================================================\n",
      "                          coef    std err          z      P>|z|      [0.025      0.975]\n",
      "---------------------------------------------------------------------------------------\n",
      "Party Support?          2.9511      1.083      2.725      0.006       0.828       5.074\n",
      "Biden Endorsed?        16.7549   2767.477      0.006      0.995   -5407.401    5440.910\n",
      "Emily Endorsed?        -0.7608      0.618     -1.231      0.218      -1.972       0.450\n",
      "Koch Support?           1.2794      0.803      1.593      0.111      -0.295       2.854\n",
      "Tea Party Endorsed?     0.6269      0.868      0.722      0.470      -1.074       2.328\n",
      "=======================================================================================\n"
     ]
    }
   ],
   "source": [
    "fit_model = sm.Logit(y_train, x_train).fit_regularized()\n",
    "print(fit_model.summary())"
   ]
  },
  {
   "cell_type": "code",
   "execution_count": 699,
   "metadata": {},
   "outputs": [
    {
     "name": "stdout",
     "output_type": "stream",
     "text": [
      "Training accuracy = 0.6736401673640168\n"
     ]
    }
   ],
   "source": [
    "predicted = fit_model.predict(x_train)\n",
    "predicted = list(map(round, predicted))\n",
    "print('Training accuracy =', accuracy_score(y_train, predicted))"
   ]
  },
  {
   "cell_type": "code",
   "execution_count": 700,
   "metadata": {},
   "outputs": [
    {
     "name": "stdout",
     "output_type": "stream",
     "text": [
      "Test accuracy = 0.6\n"
     ]
    }
   ],
   "source": [
    "predicted = fit_model.predict(x_test)\n",
    "predicted = list(map(round, predicted))\n",
    "print('Test accuracy =', accuracy_score(y_test, predicted))"
   ]
  },
  {
   "cell_type": "code",
   "execution_count": 701,
   "metadata": {},
   "outputs": [
    {
     "name": "stderr",
     "output_type": "stream",
     "text": [
      "<ipython-input-701-4e772d4f0ce9>:1: SettingWithCopyWarning: \n",
      "A value is trying to be set on a copy of a slice from a DataFrame.\n",
      "Try using .loc[row_indexer,col_indexer] = value instead\n",
      "\n",
      "See the caveats in the documentation: https://pandas.pydata.org/pandas-docs/stable/user_guide/indexing.html#returning-a-view-versus-a-copy\n",
      "  x_train[\"glm_pred\"] = fit_model.predict(x_train)\n",
      "<ipython-input-701-4e772d4f0ce9>:2: SettingWithCopyWarning: \n",
      "A value is trying to be set on a copy of a slice from a DataFrame.\n",
      "Try using .loc[row_indexer,col_indexer] = value instead\n",
      "\n",
      "See the caveats in the documentation: https://pandas.pydata.org/pandas-docs/stable/user_guide/indexing.html#returning-a-view-versus-a-copy\n",
      "  x_test[\"glm_pred\"] = predicted\n"
     ]
    }
   ],
   "source": [
    "x_train[\"glm_pred\"] = fit_model.predict(x_train)\n",
    "x_test[\"glm_pred\"] = predicted"
   ]
  },
  {
   "cell_type": "code",
   "execution_count": 702,
   "metadata": {},
   "outputs": [
    {
     "data": {
      "text/html": [
       "<div>\n",
       "<style scoped>\n",
       "    .dataframe tbody tr th:only-of-type {\n",
       "        vertical-align: middle;\n",
       "    }\n",
       "\n",
       "    .dataframe tbody tr th {\n",
       "        vertical-align: top;\n",
       "    }\n",
       "\n",
       "    .dataframe thead th {\n",
       "        text-align: right;\n",
       "    }\n",
       "</style>\n",
       "<table border=\"1\" class=\"dataframe\">\n",
       "  <thead>\n",
       "    <tr style=\"text-align: right;\">\n",
       "      <th></th>\n",
       "      <th>Party Support?</th>\n",
       "      <th>Biden Endorsed?</th>\n",
       "      <th>Emily Endorsed?</th>\n",
       "      <th>Koch Support?</th>\n",
       "      <th>Tea Party Endorsed?</th>\n",
       "      <th>glm_pred</th>\n",
       "    </tr>\n",
       "  </thead>\n",
       "  <tbody>\n",
       "    <tr>\n",
       "      <th>6</th>\n",
       "      <td>1</td>\n",
       "      <td>0</td>\n",
       "      <td>0</td>\n",
       "      <td>0</td>\n",
       "      <td>0</td>\n",
       "      <td>0.950315</td>\n",
       "    </tr>\n",
       "    <tr>\n",
       "      <th>183</th>\n",
       "      <td>0</td>\n",
       "      <td>0</td>\n",
       "      <td>0</td>\n",
       "      <td>0</td>\n",
       "      <td>0</td>\n",
       "      <td>0.500000</td>\n",
       "    </tr>\n",
       "    <tr>\n",
       "      <th>185</th>\n",
       "      <td>0</td>\n",
       "      <td>0</td>\n",
       "      <td>0</td>\n",
       "      <td>0</td>\n",
       "      <td>0</td>\n",
       "      <td>0.500000</td>\n",
       "    </tr>\n",
       "    <tr>\n",
       "      <th>146</th>\n",
       "      <td>0</td>\n",
       "      <td>0</td>\n",
       "      <td>0</td>\n",
       "      <td>0</td>\n",
       "      <td>0</td>\n",
       "      <td>0.500000</td>\n",
       "    </tr>\n",
       "    <tr>\n",
       "      <th>30</th>\n",
       "      <td>1</td>\n",
       "      <td>0</td>\n",
       "      <td>1</td>\n",
       "      <td>0</td>\n",
       "      <td>0</td>\n",
       "      <td>0.899372</td>\n",
       "    </tr>\n",
       "  </tbody>\n",
       "</table>\n",
       "</div>"
      ],
      "text/plain": [
       "     Party Support?  Biden Endorsed?  Emily Endorsed?  Koch Support?  \\\n",
       "6                 1                0                0              0   \n",
       "183               0                0                0              0   \n",
       "185               0                0                0              0   \n",
       "146               0                0                0              0   \n",
       "30                1                0                1              0   \n",
       "\n",
       "     Tea Party Endorsed?  glm_pred  \n",
       "6                      0  0.950315  \n",
       "183                    0  0.500000  \n",
       "185                    0  0.500000  \n",
       "146                    0  0.500000  \n",
       "30                     0  0.899372  "
      ]
     },
     "execution_count": 702,
     "metadata": {},
     "output_type": "execute_result"
    }
   ],
   "source": [
    "x_train.head()"
   ]
  },
  {
   "cell_type": "code",
   "execution_count": 703,
   "metadata": {},
   "outputs": [],
   "source": [
    "train_rmse = np.mean((x_train[\"glm_pred\"] - y_train) ** 2) ** 0.5\n",
    "test_rmse = np.mean((x_test[\"glm_pred\"] - y_test) ** 2) ** 0.5"
   ]
  },
  {
   "cell_type": "code",
   "execution_count": 704,
   "metadata": {},
   "outputs": [
    {
     "name": "stdout",
     "output_type": "stream",
     "text": [
      "Training set error for GLM: 0.4755925144952112\n",
      "Test set error for GLM:     0.6324555320336759\n",
      "\n",
      "Confusion matrix:\n",
      " [[31  0]\n",
      " [24  5]]\n"
     ]
    }
   ],
   "source": [
    "print(\"Training set error for GLM:\", train_rmse)\n",
    "print(\"Test set error for GLM:    \", test_rmse)\n",
    "# confusion matrix\n",
    "cm = confusion_matrix(y_test, x_test[\"glm_pred\"])\n",
    "print(\"\\nConfusion matrix:\\n\", cm)"
   ]
  },
  {
   "cell_type": "code",
   "execution_count": 705,
   "metadata": {},
   "outputs": [
    {
     "name": "stdout",
     "output_type": "stream",
     "text": [
      "              precision    recall  f1-score   support\n",
      "\n",
      "           0       0.56      1.00      0.72        31\n",
      "           1       1.00      0.17      0.29        29\n",
      "\n",
      "    accuracy                           0.60        60\n",
      "   macro avg       0.78      0.59      0.51        60\n",
      "weighted avg       0.77      0.60      0.51        60\n",
      "\n"
     ]
    }
   ],
   "source": [
    "print(classification_report(y_test, x_test[\"glm_pred\"]))"
   ]
  },
  {
   "cell_type": "markdown",
   "metadata": {},
   "source": [
    "## Prediction with Nonparametric method: Decision Trees\n",
    "Our dataset is not too complicated such that we have to use random forests."
   ]
  },
  {
   "cell_type": "code",
   "execution_count": 706,
   "metadata": {},
   "outputs": [
    {
     "data": {
      "text/plain": [
       "DecisionTreeRegressor()"
      ]
     },
     "execution_count": 706,
     "metadata": {},
     "output_type": "execute_result"
    }
   ],
   "source": [
    "# same train, test sets\n",
    "tree = DecisionTreeRegressor()\n",
    "tree.fit(x_train, y_train)"
   ]
  },
  {
   "cell_type": "code",
   "execution_count": 707,
   "metadata": {},
   "outputs": [
    {
     "data": {
      "text/plain": [
       "[Text(365.2363636363636, 199.32, 'X[5] <= 0.576\\nmse = 0.246\\nsamples = 239\\nvalue = 0.439'),\n",
       " Text(162.3272727272727, 163.07999999999998, 'X[2] <= 0.5\\nmse = 0.231\\nsamples = 204\\nvalue = 0.363'),\n",
       " Text(81.16363636363636, 126.83999999999999, 'mse = 0.233\\nsamples = 193\\nvalue = 0.368'),\n",
       " Text(243.49090909090907, 126.83999999999999, 'mse = 0.198\\nsamples = 11\\nvalue = 0.273'),\n",
       " Text(568.1454545454545, 163.07999999999998, 'X[4] <= 0.5\\nmse = 0.101\\nsamples = 35\\nvalue = 0.886'),\n",
       " Text(405.81818181818176, 126.83999999999999, 'X[2] <= 0.5\\nmse = 0.066\\nsamples = 28\\nvalue = 0.929'),\n",
       " Text(324.6545454545454, 90.6, 'X[1] <= 0.5\\nmse = 0.09\\nsamples = 20\\nvalue = 0.9'),\n",
       " Text(243.49090909090907, 54.359999999999985, 'X[5] <= 0.866\\nmse = 0.099\\nsamples = 18\\nvalue = 0.889'),\n",
       " Text(162.3272727272727, 18.119999999999976, 'mse = 0.109\\nsamples = 8\\nvalue = 0.875'),\n",
       " Text(324.6545454545454, 18.119999999999976, 'mse = 0.09\\nsamples = 10\\nvalue = 0.9'),\n",
       " Text(405.81818181818176, 54.359999999999985, 'mse = 0.0\\nsamples = 2\\nvalue = 1.0'),\n",
       " Text(486.98181818181814, 90.6, 'mse = 0.0\\nsamples = 8\\nvalue = 1.0'),\n",
       " Text(730.4727272727272, 126.83999999999999, 'X[3] <= 0.5\\nmse = 0.204\\nsamples = 7\\nvalue = 0.714'),\n",
       " Text(649.3090909090909, 90.6, 'mse = 0.16\\nsamples = 5\\nvalue = 0.8'),\n",
       " Text(811.6363636363635, 90.6, 'mse = 0.25\\nsamples = 2\\nvalue = 0.5')]"
      ]
     },
     "execution_count": 707,
     "metadata": {},
     "output_type": "execute_result"
    },
    {
     "data": {
      "image/png": "[encoded data removed]",
      "text/plain": [
       "<Figure size 1152x288 with 1 Axes>"
      ]
     },
     "metadata": {
      "needs_background": "light"
     },
     "output_type": "display_data"
    }
   ],
   "source": [
    "from sklearn.tree import plot_tree\n",
    "plt.figure(figsize=(16, 4))\n",
    "plot_tree(tree)"
   ]
  },
  {
   "cell_type": "code",
   "execution_count": 708,
   "metadata": {},
   "outputs": [
    {
     "name": "stdout",
     "output_type": "stream",
     "text": [
      "Training accuracy = 0.6736401673640168\n"
     ]
    }
   ],
   "source": [
    "predicted = tree.predict(x_train)\n",
    "predicted = list(map(round, predicted))\n",
    "print('Training accuracy =', accuracy_score(y_train, predicted))"
   ]
  },
  {
   "cell_type": "code",
   "execution_count": 709,
   "metadata": {},
   "outputs": [
    {
     "name": "stdout",
     "output_type": "stream",
     "text": [
      "Test accuracy = 0.6\n"
     ]
    }
   ],
   "source": [
    "predicted = tree.predict(x_test)\n",
    "predicted = list(map(round, predicted))\n",
    "print('Test accuracy =', accuracy_score(y_test, predicted))"
   ]
  },
  {
   "cell_type": "code",
   "execution_count": 710,
   "metadata": {},
   "outputs": [
    {
     "name": "stderr",
     "output_type": "stream",
     "text": [
      "<ipython-input-710-c82511df6b8b>:1: SettingWithCopyWarning: \n",
      "A value is trying to be set on a copy of a slice from a DataFrame.\n",
      "Try using .loc[row_indexer,col_indexer] = value instead\n",
      "\n",
      "See the caveats in the documentation: https://pandas.pydata.org/pandas-docs/stable/user_guide/indexing.html#returning-a-view-versus-a-copy\n",
      "  x_train[\"tree_pred\"] = tree.predict(x_train)\n",
      "<ipython-input-710-c82511df6b8b>:2: SettingWithCopyWarning: \n",
      "A value is trying to be set on a copy of a slice from a DataFrame.\n",
      "Try using .loc[row_indexer,col_indexer] = value instead\n",
      "\n",
      "See the caveats in the documentation: https://pandas.pydata.org/pandas-docs/stable/user_guide/indexing.html#returning-a-view-versus-a-copy\n",
      "  x_test[\"tree_pred\"] = predicted\n"
     ]
    }
   ],
   "source": [
    "x_train[\"tree_pred\"] = tree.predict(x_train)\n",
    "x_test[\"tree_pred\"] = predicted"
   ]
  },
  {
   "cell_type": "code",
   "execution_count": 711,
   "metadata": {},
   "outputs": [
    {
     "data": {
      "text/html": [
       "<div>\n",
       "<style scoped>\n",
       "    .dataframe tbody tr th:only-of-type {\n",
       "        vertical-align: middle;\n",
       "    }\n",
       "\n",
       "    .dataframe tbody tr th {\n",
       "        vertical-align: top;\n",
       "    }\n",
       "\n",
       "    .dataframe thead th {\n",
       "        text-align: right;\n",
       "    }\n",
       "</style>\n",
       "<table border=\"1\" class=\"dataframe\">\n",
       "  <thead>\n",
       "    <tr style=\"text-align: right;\">\n",
       "      <th></th>\n",
       "      <th>Party Support?</th>\n",
       "      <th>Biden Endorsed?</th>\n",
       "      <th>Emily Endorsed?</th>\n",
       "      <th>Koch Support?</th>\n",
       "      <th>Tea Party Endorsed?</th>\n",
       "      <th>glm_pred</th>\n",
       "      <th>tree_pred</th>\n",
       "    </tr>\n",
       "  </thead>\n",
       "  <tbody>\n",
       "    <tr>\n",
       "      <th>6</th>\n",
       "      <td>1</td>\n",
       "      <td>0</td>\n",
       "      <td>0</td>\n",
       "      <td>0</td>\n",
       "      <td>0</td>\n",
       "      <td>0.950315</td>\n",
       "      <td>0.900000</td>\n",
       "    </tr>\n",
       "    <tr>\n",
       "      <th>183</th>\n",
       "      <td>0</td>\n",
       "      <td>0</td>\n",
       "      <td>0</td>\n",
       "      <td>0</td>\n",
       "      <td>0</td>\n",
       "      <td>0.500000</td>\n",
       "      <td>0.367876</td>\n",
       "    </tr>\n",
       "    <tr>\n",
       "      <th>185</th>\n",
       "      <td>0</td>\n",
       "      <td>0</td>\n",
       "      <td>0</td>\n",
       "      <td>0</td>\n",
       "      <td>0</td>\n",
       "      <td>0.500000</td>\n",
       "      <td>0.367876</td>\n",
       "    </tr>\n",
       "    <tr>\n",
       "      <th>146</th>\n",
       "      <td>0</td>\n",
       "      <td>0</td>\n",
       "      <td>0</td>\n",
       "      <td>0</td>\n",
       "      <td>0</td>\n",
       "      <td>0.500000</td>\n",
       "      <td>0.367876</td>\n",
       "    </tr>\n",
       "    <tr>\n",
       "      <th>30</th>\n",
       "      <td>1</td>\n",
       "      <td>0</td>\n",
       "      <td>1</td>\n",
       "      <td>0</td>\n",
       "      <td>0</td>\n",
       "      <td>0.899372</td>\n",
       "      <td>1.000000</td>\n",
       "    </tr>\n",
       "  </tbody>\n",
       "</table>\n",
       "</div>"
      ],
      "text/plain": [
       "     Party Support?  Biden Endorsed?  Emily Endorsed?  Koch Support?  \\\n",
       "6                 1                0                0              0   \n",
       "183               0                0                0              0   \n",
       "185               0                0                0              0   \n",
       "146               0                0                0              0   \n",
       "30                1                0                1              0   \n",
       "\n",
       "     Tea Party Endorsed?  glm_pred  tree_pred  \n",
       "6                      0  0.950315   0.900000  \n",
       "183                    0  0.500000   0.367876  \n",
       "185                    0  0.500000   0.367876  \n",
       "146                    0  0.500000   0.367876  \n",
       "30                     0  0.899372   1.000000  "
      ]
     },
     "execution_count": 711,
     "metadata": {},
     "output_type": "execute_result"
    }
   ],
   "source": [
    "x_train.head()"
   ]
  },
  {
   "cell_type": "code",
   "execution_count": 712,
   "metadata": {},
   "outputs": [],
   "source": [
    "train_rmse = np.mean((x_train[\"tree_pred\"] - y_train) ** 2) ** 0.5\n",
    "test_rmse = np.mean((x_test[\"tree_pred\"] - y_test) ** 2) ** 0.5"
   ]
  },
  {
   "cell_type": "code",
   "execution_count": 713,
   "metadata": {},
   "outputs": [
    {
     "name": "stdout",
     "output_type": "stream",
     "text": [
      "Training set error for Random Forest: 0.45801850466610916\n",
      "Test set error for Random Forest:     0.6324555320336759\n",
      "\n",
      "Confusion matrix:\n",
      " [[31  0]\n",
      " [24  5]]\n"
     ]
    }
   ],
   "source": [
    "print(\"Training set error for Random Forest:\", train_rmse)\n",
    "print(\"Test set error for Random Forest:    \", test_rmse)\n",
    "# confusion matrix\n",
    "cm = confusion_matrix(y_test, x_test[\"tree_pred\"])\n",
    "print(\"\\nConfusion matrix:\\n\", cm)"
   ]
  },
  {
   "cell_type": "code",
   "execution_count": 714,
   "metadata": {},
   "outputs": [
    {
     "name": "stdout",
     "output_type": "stream",
     "text": [
      "              precision    recall  f1-score   support\n",
      "\n",
      "           0       0.56      1.00      0.72        31\n",
      "           1       1.00      0.17      0.29        29\n",
      "\n",
      "    accuracy                           0.60        60\n",
      "   macro avg       0.78      0.59      0.51        60\n",
      "weighted avg       0.77      0.60      0.51        60\n",
      "\n"
     ]
    }
   ],
   "source": [
    "print(classification_report(y_test, x_test[\"tree_pred\"]))"
   ]
  },
  {
   "cell_type": "markdown",
   "metadata": {},
   "source": [
    "#### Evaluate model performance with test accuracy, rmse, and rates in the confusion matrix."
   ]
  },
  {
   "cell_type": "markdown",
   "metadata": {},
   "source": [
    "## Results"
   ]
  },
  {
   "cell_type": "markdown",
   "metadata": {},
   "source": [
    "#### Both Logistic Regression and Decision Trees are have high rmse on test data, meaning they are not predicting unseen data well. Both models have perfect precision rate but rather low recall rate."
   ]
  },
  {
   "cell_type": "code",
   "execution_count": null,
   "metadata": {},
   "outputs": [],
   "source": []
  }
 ],
 "metadata": {
  "kernelspec": {
   "display_name": "Python 3",
   "language": "python",
   "name": "python3"
  },
  "language_info": {
   "codemirror_mode": {
    "name": "ipython",
    "version": 3
   },
   "file_extension": ".py",
   "mimetype": "text/x-python",
   "name": "python",
   "nbconvert_exporter": "python",
   "pygments_lexer": "ipython3",
   "version": "3.8.3"
  }
 },
 "nbformat": 4,
 "nbformat_minor": 5
}
