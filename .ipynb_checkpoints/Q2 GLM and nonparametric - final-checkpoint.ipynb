{
 "cells": [
  {
   "cell_type": "code",
   "execution_count": 83,
   "id": "8fcb2b8a",
   "metadata": {},
   "outputs": [],
   "source": [
    "import numpy as np\n",
    "import pandas as pd\n",
    "from sklearn.model_selection import train_test_split\n",
    "from sklearn.linear_model import LogisticRegression\n",
    "from sklearn.metrics import accuracy_score\n",
    "import statsmodels.api as sm\n",
    "from sklearn.ensemble import RandomForestClassifier\n",
    "from sklearn.metrics import accuracy_score, confusion_matrix, classification_report"
   ]
  },
  {
   "cell_type": "code",
   "execution_count": 84,
   "id": "dde4007a",
   "metadata": {},
   "outputs": [],
   "source": [
    "#read data\n",
    "donations = pd.read_csv(\"contributions.csv\")"
   ]
  },
  {
   "cell_type": "code",
   "execution_count": 85,
   "id": "4c099f7d",
   "metadata": {
    "scrolled": true
   },
   "outputs": [],
   "source": [
    "#drop na rows\n",
    "donations = donations[pd.notnull(donations['Transaction amt'])]\n",
    "donations = donations[pd.notnull(donations['Won Primary'])]\n",
    "\n",
    "#split data based on party\n",
    "\n",
    "dem = donations[donations['Obama Alum?'].notnull()]\n",
    "rep = donations[donations['Obama Alum?'].isnull()]"
   ]
  },
  {
   "cell_type": "code",
   "execution_count": 86,
   "id": "5a78ebc7",
   "metadata": {},
   "outputs": [],
   "source": [
    "\n",
    "\n",
    "# clean data: replace string values with binary var\n",
    "dem = dem[['Transaction amt','Won Primary', 'Obama Alum?','Party Support?', 'Emily Endorsed?',\n",
    "       'Guns Sense Candidate?', 'Biden Endorsed?', 'Warren Endorsed? ',\n",
    "       'Sanders Endorsed?', 'Our Revolution Endorsed?',\n",
    "       'Justice Dems Endorsed?', 'PCCC Endorsed?', 'Indivisible Endorsed?',\n",
    "       'WFP Endorsed?', 'VoteVets Endorsed?', 'No Labels Support?',\n",
    "        'Rep Party Support?', 'Trump Endorsed?', 'Bannon Endorsed?',\n",
    "       'Great America Endorsed?', 'NRA Endorsed?', 'Right to Life Endorsed?',\n",
    "       'Susan B. Anthony Endorsed?', 'Club for Growth Endorsed?',\n",
    "       'Koch Support?', 'House Freedom Support?', 'Tea Party Endorsed?',\n",
    "       'Main Street Endorsed?', 'Chamber Endorsed?']].replace(['Yes', 'No'], [1, 0]).fillna(0)\n",
    "\n",
    "\n",
    "\n",
    "\n",
    "# clean data: replace string values with binary var\n",
    "rep = rep[['Transaction amt','Won Primary', 'Obama Alum?','Party Support?', 'Emily Endorsed?',\n",
    "       'Guns Sense Candidate?', 'Biden Endorsed?', 'Warren Endorsed? ',\n",
    "       'Sanders Endorsed?', 'Our Revolution Endorsed?',\n",
    "       'Justice Dems Endorsed?', 'PCCC Endorsed?', 'Indivisible Endorsed?',\n",
    "       'WFP Endorsed?', 'VoteVets Endorsed?', 'No Labels Support?',\n",
    "        'Rep Party Support?', 'Trump Endorsed?', 'Bannon Endorsed?',\n",
    "       'Great America Endorsed?', 'NRA Endorsed?', 'Right to Life Endorsed?',\n",
    "       'Susan B. Anthony Endorsed?', 'Club for Growth Endorsed?',\n",
    "       'Koch Support?', 'House Freedom Support?', 'Tea Party Endorsed?',\n",
    "       'Main Street Endorsed?', 'Chamber Endorsed?']].replace(['Yes', 'No'], [1, 0]).fillna(0)\n"
   ]
  },
  {
   "cell_type": "markdown",
   "id": "464d9b3a",
   "metadata": {},
   "source": [
    "## GLM: Logistic Regression"
   ]
  },
  {
   "cell_type": "markdown",
   "id": "ac951cfd",
   "metadata": {},
   "source": [
    "### A. Democratic Election"
   ]
  },
  {
   "cell_type": "code",
   "execution_count": 111,
   "id": "e7801def",
   "metadata": {},
   "outputs": [],
   "source": [
    "#split into x and y\n",
    "\n",
    "#x: try features: Transaction amt, Obama alum, and endorsements from prominent politicians\n",
    "y = dem['Won Primary']\n",
    "x = dem[['Transaction amt','Obama Alum?',\"Biden Endorsed?\"]]"
   ]
  },
  {
   "cell_type": "code",
   "execution_count": null,
   "id": "a8ce72a4",
   "metadata": {},
   "outputs": [],
   "source": []
  },
  {
   "cell_type": "code",
   "execution_count": 112,
   "id": "481786c9",
   "metadata": {},
   "outputs": [],
   "source": [
    "#split to train and test sets\n",
    "X_train, X_test, y_train, y_test = train_test_split(x, y, test_size=0.2, random_state=42)"
   ]
  },
  {
   "cell_type": "code",
   "execution_count": 113,
   "id": "3656da88",
   "metadata": {},
   "outputs": [
    {
     "name": "stdout",
     "output_type": "stream",
     "text": [
      "Optimization terminated successfully    (Exit mode 0)\n",
      "            Current function value: 0.5353319487454675\n",
      "            Iterations: 43\n",
      "            Function evaluations: 52\n",
      "            Gradient evaluations: 43\n",
      "                           Logit Regression Results                           \n",
      "==============================================================================\n",
      "Dep. Variable:            Won Primary   No. Observations:                 2916\n",
      "Model:                          Logit   Df Residuals:                     2912\n",
      "Method:                           MLE   Df Model:                            3\n",
      "Date:                Mon, 10 May 2021   Pseudo R-squ.:                 0.03008\n",
      "Time:                        18:26:50   Log-Likelihood:                -1561.0\n",
      "converged:                       True   LL-Null:                       -1609.4\n",
      "Covariance Type:            nonrobust   LLR p-value:                 7.527e-21\n",
      "===================================================================================\n",
      "                      coef    std err          z      P>|z|      [0.025      0.975]\n",
      "-----------------------------------------------------------------------------------\n",
      "Transaction amt  1.219e-06   2.14e-06      0.570      0.569   -2.97e-06    5.41e-06\n",
      "Obama Alum?        -0.6517      0.144     -4.533      0.000      -0.933      -0.370\n",
      "Biden Endorsed?    21.8077   2036.827      0.011      0.991   -3970.300    4013.915\n",
      "PCCC Endorsed?      1.4406      0.158      9.132      0.000       1.131       1.750\n",
      "===================================================================================\n",
      "\n",
      "Possibly complete quasi-separation: A fraction 0.20 of observations can be\n",
      "perfectly predicted. This might indicate that there is complete\n",
      "quasi-separation. In this case some parameters will not be identified.\n"
     ]
    }
   ],
   "source": [
    "fit_model = sm.Logit(y_train, X_train).fit_regularized()\n",
    "print(fit_model.summary())"
   ]
  },
  {
   "cell_type": "code",
   "execution_count": 114,
   "id": "50c7f16d",
   "metadata": {},
   "outputs": [
    {
     "name": "stdout",
     "output_type": "stream",
     "text": [
      "Test accuracy =  0.7493150684931507\n"
     ]
    }
   ],
   "source": [
    "predicted = fit_model.predict(X_test)\n",
    "p = list(map(round, predicted))\n",
    "print('Test accuracy = ', accuracy_score(y_test, p))"
   ]
  },
  {
   "cell_type": "markdown",
   "id": "befe2ed0",
   "metadata": {},
   "source": [
    "## Nonparametric method: Random Forest"
   ]
  },
  {
   "cell_type": "code",
   "execution_count": 9,
   "id": "ba5c9a3c",
   "metadata": {},
   "outputs": [
    {
     "data": {
      "text/plain": [
       "RandomForestClassifier(max_depth=8, n_estimators=50)"
      ]
     },
     "execution_count": 9,
     "metadata": {},
     "output_type": "execute_result"
    }
   ],
   "source": [
    "forest = RandomForestClassifier(n_estimators=50, max_depth=8)\n",
    "forest.fit(X_train.ravel().reshape(-1,1), y_train)"
   ]
  },
  {
   "cell_type": "code",
   "execution_count": 10,
   "id": "54996daa",
   "metadata": {},
   "outputs": [
    {
     "data": {
      "text/plain": [
       "0.7088693297224103"
      ]
     },
     "execution_count": 10,
     "metadata": {},
     "output_type": "execute_result"
    }
   ],
   "source": [
    "y_pred_test = forest.predict(X_test.ravel().reshape(-1,1))\n",
    "accuracy_score(y_test, y_pred_test)"
   ]
  },
  {
   "cell_type": "code",
   "execution_count": 13,
   "id": "67b90e2e",
   "metadata": {},
   "outputs": [
    {
     "data": {
      "text/plain": [
       "0.7400135409614083"
      ]
     },
     "execution_count": 13,
     "metadata": {},
     "output_type": "execute_result"
    }
   ],
   "source": [
    "y_pred_train = forest.predict(X_train.ravel().reshape(-1,1))\n",
    "accuracy_score(y_train, y_pred_train)"
   ]
  },
  {
   "cell_type": "code",
   "execution_count": 11,
   "id": "befbed77",
   "metadata": {},
   "outputs": [
    {
     "name": "stdout",
     "output_type": "stream",
     "text": [
      "              precision    recall  f1-score   support\n",
      "\n",
      "         0.0       0.63      0.30      0.41       493\n",
      "         1.0       0.72      0.91      0.81       984\n",
      "\n",
      "    accuracy                           0.71      1477\n",
      "   macro avg       0.68      0.61      0.61      1477\n",
      "weighted avg       0.69      0.71      0.67      1477\n",
      "\n"
     ]
    }
   ],
   "source": [
    "print(classification_report(y_test, y_pred_test))"
   ]
  },
  {
   "cell_type": "code",
   "execution_count": null,
   "id": "00eb142f",
   "metadata": {},
   "outputs": [],
   "source": []
  }
 ],
 "metadata": {
  "kernelspec": {
   "display_name": "Python 3",
   "language": "python",
   "name": "python3"
  },
  "language_info": {
   "codemirror_mode": {
    "name": "ipython",
    "version": 3
   },
   "file_extension": ".py",
   "mimetype": "text/x-python",
   "name": "python",
   "nbconvert_exporter": "python",
   "pygments_lexer": "ipython3",
   "version": "3.9.5"
  }
 },
 "nbformat": 4,
 "nbformat_minor": 5
}
