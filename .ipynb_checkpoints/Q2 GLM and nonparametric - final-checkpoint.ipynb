{
 "cells": [
  {
   "cell_type": "code",
   "execution_count": 304,
   "id": "8fcb2b8a",
   "metadata": {},
   "outputs": [],
   "source": [
    "import numpy as np\n",
    "import pandas as pd\n",
    "from sklearn.model_selection import train_test_split\n",
    "from sklearn.linear_model import LogisticRegression\n",
    "from sklearn.metrics import accuracy_score\n",
    "import statsmodels.api as sm\n",
    "from sklearn.ensemble import RandomForestClassifier\n",
    "from sklearn.metrics import accuracy_score, confusion_matrix, classification_report\n",
    "from sklearn.feature_selection import SelectKBest\n",
    "from sklearn.feature_selection import chi2"
   ]
  },
  {
   "cell_type": "code",
   "execution_count": 305,
   "id": "dde4007a",
   "metadata": {},
   "outputs": [],
   "source": [
    "#read data\n",
    "donations = pd.read_csv(\"contributions.csv\")"
   ]
  },
  {
   "cell_type": "code",
   "execution_count": 306,
   "id": "4c099f7d",
   "metadata": {
    "scrolled": true
   },
   "outputs": [],
   "source": [
    "#drop na rows\n",
    "donations = donations[pd.notnull(donations['Transaction amt'])]\n",
    "donations = donations[pd.notnull(donations['Won Primary'])]\n",
    "\n",
    "#split data based on party\n",
    "\n",
    "dem = donations[donations['Obama Alum?'].notnull()]\n",
    "rep = donations[donations['Obama Alum?'].isnull()]"
   ]
  },
  {
   "cell_type": "code",
   "execution_count": 307,
   "id": "9a18cd0c",
   "metadata": {},
   "outputs": [],
   "source": [
    "\n",
    "\n",
    "# clean data: replace string values with binary var\n",
    "dem = dem[['Transaction amt','Won Primary', 'Obama Alum?','Party Support?', 'Emily Endorsed?',\n",
    "       'Guns Sense Candidate?', 'Biden Endorsed?', 'Warren Endorsed? ',\n",
    "       'Sanders Endorsed?', 'Our Revolution Endorsed?',\n",
    "       'Justice Dems Endorsed?', 'PCCC Endorsed?', 'Indivisible Endorsed?',\n",
    "       'WFP Endorsed?', 'VoteVets Endorsed?', 'No Labels Support?',\n",
    "        'Rep Party Support?', 'Trump Endorsed?', 'Bannon Endorsed?',\n",
    "       'Great America Endorsed?', 'NRA Endorsed?', 'Right to Life Endorsed?',\n",
    "       'Susan B. Anthony Endorsed?', 'Club for Growth Endorsed?',\n",
    "       'Koch Support?', 'House Freedom Support?', 'Tea Party Endorsed?',\n",
    "       'Main Street Endorsed?', 'Chamber Endorsed?']].replace(['Yes', 'No'], [1, 0]).fillna(0)\n",
    "\n",
    "\n",
    "\n",
    "\n",
    "# clean data: replace string values with binary var\n",
    "rep = rep[['Transaction amt','Won Primary', 'Obama Alum?','Party Support?', 'Emily Endorsed?',\n",
    "       'Guns Sense Candidate?', 'Biden Endorsed?', 'Warren Endorsed? ',\n",
    "       'Sanders Endorsed?', 'Our Revolution Endorsed?',\n",
    "       'Justice Dems Endorsed?', 'PCCC Endorsed?', 'Indivisible Endorsed?',\n",
    "       'WFP Endorsed?', 'VoteVets Endorsed?', 'No Labels Support?',\n",
    "        'Rep Party Support?', 'Trump Endorsed?', 'Bannon Endorsed?',\n",
    "       'Great America Endorsed?', 'NRA Endorsed?', 'Right to Life Endorsed?',\n",
    "       'Susan B. Anthony Endorsed?', 'Club for Growth Endorsed?',\n",
    "       'Koch Support?', 'House Freedom Support?', 'Tea Party Endorsed?',\n",
    "       'Main Street Endorsed?', 'Chamber Endorsed?']].replace(['Yes', 'No'], [1, 0]).fillna(0)\n"
   ]
  },
  {
   "cell_type": "markdown",
   "id": "464d9b3a",
   "metadata": {},
   "source": [
    "## GLM: Logistic Regression"
   ]
  },
  {
   "cell_type": "markdown",
   "id": "6fb122aa",
   "metadata": {},
   "source": [
    "### A. Democratic Election"
   ]
  },
  {
   "cell_type": "markdown",
   "id": "1b3e738b",
   "metadata": {},
   "source": [
    "#### Features: Transaction amt, Obama Alum, Biden Endorsed, Sanders Endorsed\n",
    "\n",
    "We do not include \"Obama Alum?\" and similar credentials as features because they result in coeffficients very close to 0 after fitting a logistic regression model."
   ]
  },
  {
   "cell_type": "code",
   "execution_count": 320,
   "id": "e7801def",
   "metadata": {},
   "outputs": [],
   "source": [
    "#split into x and y\n",
    "\n",
    "#x: try features: Transaction amt and endorsements from top endorsers\n",
    "# top endorsers as listed in the table by https://fivethirtyeight.com/features/the-establishment-is-beating-the-progressive-wing-in-democratic-primaries-so-far/\n",
    "\n",
    "y = dem['Won Primary']\n",
    "x = dem[['Transaction amt','Obama Alum?','Biden Endorsed?','Emily Endorsed?','PCCC Endorsed?']]\n",
    "\n"
   ]
  },
  {
   "cell_type": "code",
   "execution_count": 321,
   "id": "481786c9",
   "metadata": {},
   "outputs": [],
   "source": [
    "#split to train and test sets\n",
    "X_train, X_test, y_train, y_test = train_test_split(x, y, test_size=0.2, random_state=42)"
   ]
  },
  {
   "cell_type": "code",
   "execution_count": 322,
   "id": "3656da88",
   "metadata": {},
   "outputs": [
    {
     "name": "stdout",
     "output_type": "stream",
     "text": [
      "Optimization terminated successfully    (Exit mode 0)\n",
      "            Current function value: 0.46679546073332123\n",
      "            Iterations: 53\n",
      "            Function evaluations: 61\n",
      "            Gradient evaluations: 53\n",
      "                           Logit Regression Results                           \n",
      "==============================================================================\n",
      "Dep. Variable:            Won Primary   No. Observations:                 2916\n",
      "Model:                          Logit   Df Residuals:                     2911\n",
      "Method:                           MLE   Df Model:                            4\n",
      "Date:                Mon, 10 May 2021   Pseudo R-squ.:                  0.1543\n",
      "Time:                        20:47:34   Log-Likelihood:                -1361.2\n",
      "converged:                       True   LL-Null:                       -1609.4\n",
      "Covariance Type:            nonrobust   LLR p-value:                3.795e-106\n",
      "===================================================================================\n",
      "                      coef    std err          z      P>|z|      [0.025      0.975]\n",
      "-----------------------------------------------------------------------------------\n",
      "Transaction amt -8.754e-06   3.18e-06     -2.751      0.006    -1.5e-05   -2.52e-06\n",
      "Obama Alum?        -1.1572      0.156     -7.416      0.000      -1.463      -0.851\n",
      "Biden Endorsed?    20.5884   1726.486      0.012      0.990   -3363.263    3404.440\n",
      "Emily Endorsed?     1.8624      0.111     16.750      0.000       1.644       2.080\n",
      "PCCC Endorsed?      1.2665      0.178      7.120      0.000       0.918       1.615\n",
      "===================================================================================\n",
      "\n",
      "Possibly complete quasi-separation: A fraction 0.20 of observations can be\n",
      "perfectly predicted. This might indicate that there is complete\n",
      "quasi-separation. In this case some parameters will not be identified.\n"
     ]
    },
    {
     "name": "stderr",
     "output_type": "stream",
     "text": [
      "/usr/local/Cellar/jupyterlab/3.0.14/libexec/lib/python3.9/site-packages/statsmodels/discrete/discrete_model.py:1810: RuntimeWarning: overflow encountered in exp\n",
      "  return 1/(1+np.exp(-X))\n",
      "/usr/local/Cellar/jupyterlab/3.0.14/libexec/lib/python3.9/site-packages/statsmodels/discrete/discrete_model.py:1863: RuntimeWarning: divide by zero encountered in log\n",
      "  return np.sum(np.log(self.cdf(q*np.dot(X,params))))\n"
     ]
    }
   ],
   "source": [
    "fit_model = sm.Logit(y_train, X_train).fit_regularized()\n",
    "print(fit_model.summary())"
   ]
  },
  {
   "cell_type": "code",
   "execution_count": 323,
   "id": "50c7f16d",
   "metadata": {},
   "outputs": [
    {
     "name": "stdout",
     "output_type": "stream",
     "text": [
      "Test accuracy =  0.6068493150684932\n"
     ]
    }
   ],
   "source": [
    "predicted = fit_model.predict(X_test)\n",
    "p = list(map(round, predicted))\n",
    "print('Test accuracy = ', accuracy_score(y_test, p))"
   ]
  },
  {
   "cell_type": "markdown",
   "id": "350d2ca1",
   "metadata": {},
   "source": [
    "The feature \"Biden Endorsed?\" leads to a high standard error, since data on Biden's endorsements are rare; all 10 candidates receiving a Biden endorsement in 2018 won the election."
   ]
  },
  {
   "cell_type": "code",
   "execution_count": 325,
   "id": "82fc9aa4",
   "metadata": {
    "scrolled": true
   },
   "outputs": [
    {
     "name": "stdout",
     "output_type": "stream",
     "text": [
      "Optimization terminated successfully    (Exit mode 0)\n",
      "            Current function value: 0.5228808055152547\n",
      "            Iterations: 20\n",
      "            Function evaluations: 28\n",
      "            Gradient evaluations: 20\n",
      "                           Logit Regression Results                           \n",
      "==============================================================================\n",
      "Dep. Variable:            Won Primary   No. Observations:                 2916\n",
      "Model:                          Logit   Df Residuals:                     2913\n",
      "Method:                           MLE   Df Model:                            2\n",
      "Date:                Mon, 10 May 2021   Pseudo R-squ.:                 0.05264\n",
      "Time:                        20:47:48   Log-Likelihood:                -1524.7\n",
      "converged:                       True   LL-Null:                       -1609.4\n",
      "Covariance Type:            nonrobust   LLR p-value:                 1.619e-37\n",
      "===================================================================================\n",
      "                      coef    std err          z      P>|z|      [0.025      0.975]\n",
      "-----------------------------------------------------------------------------------\n",
      "Transaction amt -1.541e-05   3.82e-06     -4.037      0.000   -2.29e-05   -7.93e-06\n",
      "Emily Endorsed?     2.3233      0.102     22.749      0.000       2.123       2.523\n",
      "PCCC Endorsed?      0.7847      0.162      4.855      0.000       0.468       1.101\n",
      "===================================================================================\n"
     ]
    },
    {
     "name": "stderr",
     "output_type": "stream",
     "text": [
      "/usr/local/Cellar/jupyterlab/3.0.14/libexec/lib/python3.9/site-packages/statsmodels/discrete/discrete_model.py:1810: RuntimeWarning: overflow encountered in exp\n",
      "  return 1/(1+np.exp(-X))\n",
      "/usr/local/Cellar/jupyterlab/3.0.14/libexec/lib/python3.9/site-packages/statsmodels/discrete/discrete_model.py:1863: RuntimeWarning: divide by zero encountered in log\n",
      "  return np.sum(np.log(self.cdf(q*np.dot(X,params))))\n"
     ]
    }
   ],
   "source": [
    "#x: try features: Transaction amt and endorsements from top non-Biden endorsers\n",
    "# top endorsers as listed in the table by https://fivethirtyeight.com/features/the-establishment-is-beating-the-progressive-wing-in-democratic-primaries-so-far/\n",
    "\n",
    "y = dem['Won Primary']\n",
    "x = dem[['Transaction amt','Emily Endorsed?','PCCC Endorsed?']]\n",
    "\n",
    "#split to train and test sets\n",
    "X_train, X_test, y_train, y_test = train_test_split(x, y, test_size=0.2, random_state=42)\n",
    "\n",
    "fit_model = sm.Logit(y_train, X_train).fit_regularized()\n",
    "print(fit_model.summary())"
   ]
  },
  {
   "cell_type": "code",
   "execution_count": 326,
   "id": "0c3e2e42",
   "metadata": {},
   "outputs": [
    {
     "name": "stdout",
     "output_type": "stream",
     "text": [
      "Test accuracy =  0.5726027397260274\n"
     ]
    }
   ],
   "source": [
    "predicted = fit_model.predict(X_test)\n",
    "p = list(map(round, predicted))\n",
    "print('Test accuracy = ', accuracy_score(y_test, p))"
   ]
  },
  {
   "cell_type": "markdown",
   "id": "d061c937",
   "metadata": {},
   "source": [
    "When we include endorsements from top endorsers as a feature in our model, test accuracy decreases compared to when using just Obama alum status and contributions."
   ]
  },
  {
   "cell_type": "code",
   "execution_count": 327,
   "id": "132f2542",
   "metadata": {
    "scrolled": true
   },
   "outputs": [
    {
     "name": "stdout",
     "output_type": "stream",
     "text": [
      "Optimization terminated successfully    (Exit mode 0)\n",
      "            Current function value: 0.6927535908805859\n",
      "            Iterations: 5\n",
      "            Function evaluations: 13\n",
      "            Gradient evaluations: 5\n",
      "                           Logit Regression Results                           \n",
      "==============================================================================\n",
      "Dep. Variable:            Won Primary   No. Observations:                 2916\n",
      "Model:                          Logit   Df Residuals:                     2915\n",
      "Method:                           MLE   Df Model:                            0\n",
      "Date:                Mon, 10 May 2021   Pseudo R-squ.:                 -0.2551\n",
      "Time:                        20:47:51   Log-Likelihood:                -2020.1\n",
      "converged:                       True   LL-Null:                       -1609.4\n",
      "Covariance Type:            nonrobust   LLR p-value:                       nan\n",
      "===================================================================================\n",
      "                      coef    std err          z      P>|z|      [0.025      0.975]\n",
      "-----------------------------------------------------------------------------------\n",
      "Transaction amt  3.308e-06   2.34e-06      1.412      0.158   -1.28e-06     7.9e-06\n",
      "===================================================================================\n"
     ]
    },
    {
     "name": "stderr",
     "output_type": "stream",
     "text": [
      "/usr/local/Cellar/jupyterlab/3.0.14/libexec/lib/python3.9/site-packages/statsmodels/discrete/discrete_model.py:1810: RuntimeWarning: overflow encountered in exp\n",
      "  return 1/(1+np.exp(-X))\n",
      "/usr/local/Cellar/jupyterlab/3.0.14/libexec/lib/python3.9/site-packages/statsmodels/discrete/discrete_model.py:1863: RuntimeWarning: divide by zero encountered in log\n",
      "  return np.sum(np.log(self.cdf(q*np.dot(X,params))))\n"
     ]
    }
   ],
   "source": [
    "#x: try features: Transaction amt, Obama alum, and endorsements from top non-Biden endorsers\n",
    "# top endorsers as listed in the table by https://fivethirtyeight.com/features/the-establishment-is-beating-the-progressive-wing-in-democratic-primaries-so-far/\n",
    "\n",
    "y = dem['Won Primary']\n",
    "x = dem[['Transaction amt']]\n",
    "\n",
    "#split to train and test sets\n",
    "X_train, X_test, y_train, y_test = train_test_split(x, y, test_size=0.2, random_state=42)\n",
    "\n",
    "fit_model = sm.Logit(y_train, X_train).fit_regularized()\n",
    "print(fit_model.summary())"
   ]
  },
  {
   "cell_type": "code",
   "execution_count": 328,
   "id": "738168c1",
   "metadata": {},
   "outputs": [
    {
     "name": "stdout",
     "output_type": "stream",
     "text": [
      "Test accuracy =  0.7205479452054795\n"
     ]
    }
   ],
   "source": [
    "predicted = fit_model.predict(X_test)\n",
    "p = list(map(round, predicted))\n",
    "print('Test accuracy = ', accuracy_score(y_test, p))"
   ]
  },
  {
   "cell_type": "markdown",
   "id": "befe2ed0",
   "metadata": {},
   "source": [
    "## Nonparametric method: Random Forest"
   ]
  },
  {
   "cell_type": "code",
   "execution_count": 329,
   "id": "ba5c9a3c",
   "metadata": {},
   "outputs": [
    {
     "data": {
      "text/plain": [
       "RandomForestClassifier(max_depth=8, n_estimators=50)"
      ]
     },
     "execution_count": 329,
     "metadata": {},
     "output_type": "execute_result"
    }
   ],
   "source": [
    "forest = RandomForestClassifier(n_estimators=50, max_depth=8)\n",
    "forest.fit(X_train, y_train)"
   ]
  },
  {
   "cell_type": "code",
   "execution_count": 330,
   "id": "54996daa",
   "metadata": {},
   "outputs": [
    {
     "data": {
      "text/plain": [
       "0.736986301369863"
      ]
     },
     "execution_count": 330,
     "metadata": {},
     "output_type": "execute_result"
    }
   ],
   "source": [
    "y_pred_test = forest.predict(X_test)\n",
    "accuracy_score(y_test, y_pred_test)"
   ]
  },
  {
   "cell_type": "code",
   "execution_count": 331,
   "id": "02046a22",
   "metadata": {},
   "outputs": [
    {
     "data": {
      "text/plain": [
       "0.7962962962962963"
      ]
     },
     "execution_count": 331,
     "metadata": {},
     "output_type": "execute_result"
    }
   ],
   "source": [
    "y_pred_train = forest.predict(X_train)\n",
    "accuracy_score(y_train, y_pred_train)"
   ]
  },
  {
   "cell_type": "code",
   "execution_count": 332,
   "id": "befbed77",
   "metadata": {},
   "outputs": [
    {
     "name": "stdout",
     "output_type": "stream",
     "text": [
      "              precision    recall  f1-score   support\n",
      "\n",
      "           0       0.59      0.12      0.19       199\n",
      "           1       0.75      0.97      0.84       531\n",
      "\n",
      "    accuracy                           0.74       730\n",
      "   macro avg       0.67      0.54      0.52       730\n",
      "weighted avg       0.70      0.74      0.67       730\n",
      "\n"
     ]
    }
   ],
   "source": [
    "print(classification_report(y_test, y_pred_test))"
   ]
  },
  {
   "cell_type": "code",
   "execution_count": null,
   "id": "60a4b60a",
   "metadata": {},
   "outputs": [],
   "source": []
  },
  {
   "cell_type": "code",
   "execution_count": null,
   "id": "e267ed03",
   "metadata": {},
   "outputs": [],
   "source": []
  }
 ],
 "metadata": {
  "kernelspec": {
   "display_name": "Python 3",
   "language": "python",
   "name": "python3"
  },
  "language_info": {
   "codemirror_mode": {
    "name": "ipython",
    "version": 3
   },
   "file_extension": ".py",
   "mimetype": "text/x-python",
   "name": "python",
   "nbconvert_exporter": "python",
   "pygments_lexer": "ipython3",
   "version": "3.9.5"
  }
 },
 "nbformat": 4,
 "nbformat_minor": 5
}
