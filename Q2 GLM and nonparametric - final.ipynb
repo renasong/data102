{
 "cells": [
  {
   "cell_type": "code",
   "execution_count": 221,
   "id": "8fcb2b8a",
   "metadata": {},
   "outputs": [],
   "source": [
    "import numpy as np\n",
    "import pandas as pd\n",
    "from sklearn.model_selection import train_test_split\n",
    "from sklearn.linear_model import LogisticRegression\n",
    "from sklearn.metrics import accuracy_score\n",
    "import statsmodels.api as sm\n",
    "from sklearn.ensemble import RandomForestClassifier\n",
    "from sklearn.metrics import accuracy_score, confusion_matrix, classification_report\n",
    "from sklearn.feature_selection import SelectKBest\n",
    "from sklearn.feature_selection import chi2"
   ]
  },
  {
   "cell_type": "code",
   "execution_count": 222,
   "id": "dde4007a",
   "metadata": {},
   "outputs": [],
   "source": [
    "#read data\n",
    "donations = pd.read_csv(\"contributions.csv\")"
   ]
  },
  {
   "cell_type": "code",
   "execution_count": 223,
   "id": "4c099f7d",
   "metadata": {
    "scrolled": true
   },
   "outputs": [],
   "source": [
    "#drop na rows\n",
    "donations = donations[pd.notnull(donations['Transaction amt'])]\n",
    "donations = donations[pd.notnull(donations['Won Primary'])]\n",
    "\n",
    "#split data based on party\n",
    "\n",
    "dem = donations[donations['Obama Alum?'].notnull()]\n",
    "rep = donations[donations['Obama Alum?'].isnull()]"
   ]
  },
  {
   "cell_type": "code",
   "execution_count": 224,
   "id": "7816cc51",
   "metadata": {},
   "outputs": [],
   "source": [
    "\n",
    "\n",
    "# clean data: replace string values with binary var\n",
    "dem = dem[['Transaction amt','Won Primary', 'Obama Alum?','Party Support?', 'Emily Endorsed?',\n",
    "       'Guns Sense Candidate?', 'Biden Endorsed?', 'Warren Endorsed? ',\n",
    "       'Sanders Endorsed?', 'Our Revolution Endorsed?',\n",
    "       'Justice Dems Endorsed?', 'PCCC Endorsed?', 'Indivisible Endorsed?',\n",
    "       'WFP Endorsed?', 'VoteVets Endorsed?', 'No Labels Support?',\n",
    "        'Rep Party Support?', 'Trump Endorsed?', 'Bannon Endorsed?',\n",
    "       'Great America Endorsed?', 'NRA Endorsed?', 'Right to Life Endorsed?',\n",
    "       'Susan B. Anthony Endorsed?', 'Club for Growth Endorsed?',\n",
    "       'Koch Support?', 'House Freedom Support?', 'Tea Party Endorsed?',\n",
    "       'Main Street Endorsed?', 'Chamber Endorsed?']].replace(['Yes', 'No'], [1, 0]).fillna(0)\n",
    "\n",
    "\n",
    "\n",
    "\n",
    "# clean data: replace string values with binary var\n",
    "rep = rep[['Transaction amt','Won Primary', 'Obama Alum?','Party Support?', 'Emily Endorsed?',\n",
    "       'Guns Sense Candidate?', 'Biden Endorsed?', 'Warren Endorsed? ',\n",
    "       'Sanders Endorsed?', 'Our Revolution Endorsed?',\n",
    "       'Justice Dems Endorsed?', 'PCCC Endorsed?', 'Indivisible Endorsed?',\n",
    "       'WFP Endorsed?', 'VoteVets Endorsed?', 'No Labels Support?',\n",
    "        'Rep Party Support?', 'Trump Endorsed?', 'Bannon Endorsed?',\n",
    "       'Great America Endorsed?', 'NRA Endorsed?', 'Right to Life Endorsed?',\n",
    "       'Susan B. Anthony Endorsed?', 'Club for Growth Endorsed?',\n",
    "       'Koch Support?', 'House Freedom Support?', 'Tea Party Endorsed?',\n",
    "       'Main Street Endorsed?', 'Chamber Endorsed?']].replace(['Yes', 'No'], [1, 0]).fillna(0)\n"
   ]
  },
  {
   "cell_type": "markdown",
   "id": "464d9b3a",
   "metadata": {},
   "source": [
    "## GLM: Logistic Regression"
   ]
  },
  {
   "cell_type": "markdown",
   "id": "3b33146a",
   "metadata": {},
   "source": [
    "### A. Democratic Election"
   ]
  },
  {
   "cell_type": "markdown",
   "id": "62e68779",
   "metadata": {},
   "source": [
    "#### Features: Transaction amt, Obama Alum, Biden Endorsed, Sanders Endorsed"
   ]
  },
  {
   "cell_type": "code",
   "execution_count": 225,
   "id": "e7801def",
   "metadata": {},
   "outputs": [],
   "source": [
    "#split into x and y\n",
    "\n",
    "#x: try features: Transaction amt, Obama alum, and endorsements from prominent politicians\n",
    "y = dem['Won Primary']\n",
    "x = dem[['Transaction amt','Obama Alum?',\"Biden Endorsed?\",\"Sanders Endorsed?\"]]\n",
    "\n"
   ]
  },
  {
   "cell_type": "code",
   "execution_count": 226,
   "id": "481786c9",
   "metadata": {},
   "outputs": [],
   "source": [
    "#split to train and test sets\n",
    "X_train, X_test, y_train, y_test = train_test_split(x, y, test_size=0.2, random_state=42)"
   ]
  },
  {
   "cell_type": "code",
   "execution_count": 227,
   "id": "3656da88",
   "metadata": {},
   "outputs": [
    {
     "name": "stdout",
     "output_type": "stream",
     "text": [
      "Optimization terminated successfully    (Exit mode 0)\n",
      "            Current function value: 0.5526447289567857\n",
      "            Iterations: 24\n",
      "            Function evaluations: 32\n",
      "            Gradient evaluations: 24\n",
      "                           Logit Regression Results                           \n",
      "==============================================================================\n",
      "Dep. Variable:            Won Primary   No. Observations:                 2916\n",
      "Model:                          Logit   Df Residuals:                     2912\n",
      "Method:                           MLE   Df Model:                            3\n",
      "Date:                Mon, 10 May 2021   Pseudo R-squ.:               -0.001291\n",
      "Time:                        20:12:00   Log-Likelihood:                -1611.5\n",
      "converged:                       True   LL-Null:                       -1609.4\n",
      "Covariance Type:            nonrobust   LLR p-value:                     1.000\n",
      "=====================================================================================\n",
      "                        coef    std err          z      P>|z|      [0.025      0.975]\n",
      "-------------------------------------------------------------------------------------\n",
      "Transaction amt    1.503e-06   2.12e-06      0.711      0.477   -2.64e-06    5.65e-06\n",
      "Obama Alum?          -0.2951      0.133     -2.216      0.027      -0.556      -0.034\n",
      "Biden Endorsed?      16.1249    126.139      0.128      0.898    -231.103     263.353\n",
      "Sanders Endorsed?     0.2553      0.232      1.100      0.272      -0.200       0.710\n",
      "=====================================================================================\n",
      "\n",
      "Possibly complete quasi-separation: A fraction 0.20 of observations can be\n",
      "perfectly predicted. This might indicate that there is complete\n",
      "quasi-separation. In this case some parameters will not be identified.\n"
     ]
    },
    {
     "name": "stderr",
     "output_type": "stream",
     "text": [
      "/usr/local/Cellar/jupyterlab/3.0.14/libexec/lib/python3.9/site-packages/statsmodels/discrete/discrete_model.py:1810: RuntimeWarning: overflow encountered in exp\n",
      "  return 1/(1+np.exp(-X))\n",
      "/usr/local/Cellar/jupyterlab/3.0.14/libexec/lib/python3.9/site-packages/statsmodels/discrete/discrete_model.py:1863: RuntimeWarning: divide by zero encountered in log\n",
      "  return np.sum(np.log(self.cdf(q*np.dot(X,params))))\n"
     ]
    }
   ],
   "source": [
    "fit_model = sm.Logit(y_train, X_train).fit_regularized()\n",
    "print(fit_model.summary())"
   ]
  },
  {
   "cell_type": "code",
   "execution_count": 228,
   "id": "50c7f16d",
   "metadata": {},
   "outputs": [
    {
     "name": "stdout",
     "output_type": "stream",
     "text": [
      "Test accuracy =  0.7534246575342466\n"
     ]
    }
   ],
   "source": [
    "predicted = fit_model.predict(X_test)\n",
    "p = list(map(round, predicted))\n",
    "print('Test accuracy = ', accuracy_score(y_test, p))"
   ]
  },
  {
   "cell_type": "markdown",
   "id": "befe2ed0",
   "metadata": {},
   "source": [
    "## Nonparametric method: Random Forest"
   ]
  },
  {
   "cell_type": "code",
   "execution_count": 229,
   "id": "ba5c9a3c",
   "metadata": {},
   "outputs": [
    {
     "data": {
      "text/plain": [
       "RandomForestClassifier(max_depth=8, n_estimators=50)"
      ]
     },
     "execution_count": 229,
     "metadata": {},
     "output_type": "execute_result"
    }
   ],
   "source": [
    "forest = RandomForestClassifier(n_estimators=50, max_depth=8)\n",
    "forest.fit(X_train, y_train)"
   ]
  },
  {
   "cell_type": "code",
   "execution_count": 230,
   "id": "54996daa",
   "metadata": {},
   "outputs": [
    {
     "data": {
      "text/plain": [
       "0.7534246575342466"
      ]
     },
     "execution_count": 230,
     "metadata": {},
     "output_type": "execute_result"
    }
   ],
   "source": [
    "y_pred_test = forest.predict(X_test)\n",
    "accuracy_score(y_test, y_pred_test)"
   ]
  },
  {
   "cell_type": "code",
   "execution_count": 231,
   "id": "0bbd023b",
   "metadata": {},
   "outputs": [
    {
     "data": {
      "text/plain": [
       "0.8024691358024691"
      ]
     },
     "execution_count": 231,
     "metadata": {},
     "output_type": "execute_result"
    }
   ],
   "source": [
    "y_pred_train = forest.predict(X_train)\n",
    "accuracy_score(y_train, y_pred_train)"
   ]
  },
  {
   "cell_type": "code",
   "execution_count": 220,
   "id": "befbed77",
   "metadata": {},
   "outputs": [
    {
     "name": "stdout",
     "output_type": "stream",
     "text": [
      "              precision    recall  f1-score   support\n",
      "\n",
      "           0       1.00      1.00      1.00       199\n",
      "           1       1.00      1.00      1.00       531\n",
      "\n",
      "    accuracy                           1.00       730\n",
      "   macro avg       1.00      1.00      1.00       730\n",
      "weighted avg       1.00      1.00      1.00       730\n",
      "\n"
     ]
    }
   ],
   "source": [
    "print(classification_report(y_test, y_pred_test))"
   ]
  },
  {
   "cell_type": "markdown",
   "id": "cfb46e44",
   "metadata": {},
   "source": [
    "#### Features: Obama alum, transaction amt, all endorsement categories"
   ]
  },
  {
   "cell_type": "code",
   "execution_count": 214,
   "id": "7ecfb46b",
   "metadata": {},
   "outputs": [],
   "source": [
    "#split into x and y\n",
    "\n",
    "#x: try features: Transaction amt, Obama alum, and endorsements from prominent politicians\n",
    "\n",
    "#add some noise to prevent perfect correlation between variables\n",
    "dem_d = dem+0.00001*np.random.rand(3646, 29)\n",
    "\n",
    "y = dem['Won Primary']\n",
    "x = dem_d[['Transaction amt','Won Primary', 'Obama Alum?','Biden Endorsed?','Warren Endorsed? ','Emily Endorsed?']]\n",
    "\n",
    "\n",
    "#split to train and test sets\n",
    "X_train, X_test, y_train, y_test = train_test_split(x, y, test_size=0.2, random_state=42)"
   ]
  },
  {
   "cell_type": "code",
   "execution_count": 215,
   "id": "4f832902",
   "metadata": {},
   "outputs": [],
   "source": [
    "\n",
    "#split to train and test sets\n",
    "X_train, X_test, y_train, y_test = train_test_split(x, y, test_size=0.2, random_state=42)"
   ]
  },
  {
   "cell_type": "code",
   "execution_count": null,
   "id": "4d82cee7",
   "metadata": {},
   "outputs": [],
   "source": []
  }
 ],
 "metadata": {
  "kernelspec": {
   "display_name": "Python 3",
   "language": "python",
   "name": "python3"
  },
  "language_info": {
   "codemirror_mode": {
    "name": "ipython",
    "version": 3
   },
   "file_extension": ".py",
   "mimetype": "text/x-python",
   "name": "python",
   "nbconvert_exporter": "python",
   "pygments_lexer": "ipython3",
   "version": "3.9.5"
  }
 },
 "nbformat": 4,
 "nbformat_minor": 5
}
